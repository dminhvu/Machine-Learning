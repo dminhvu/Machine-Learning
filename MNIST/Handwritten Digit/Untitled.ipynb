{
 "cells": [
  {
   "cell_type": "code",
   "execution_count": 256,
   "id": "483285a0-0902-439d-a5d8-090b21eabfe6",
   "metadata": {},
   "outputs": [],
   "source": [
    "import numpy as np\n",
    "import matplotlib.pyplot as plt\n",
    "from sklearn.model_selection import train_test_split\n",
    "from sklearn.datasets import fetch_openml"
   ]
  },
  {
   "cell_type": "code",
   "execution_count": 193,
   "id": "9a27b385-9ddb-4eef-a2f2-bd8f785c3738",
   "metadata": {},
   "outputs": [],
   "source": [
    "mnist = fetch_openml('mnist_784')"
   ]
  },
  {
   "cell_type": "code",
   "execution_count": 212,
   "id": "00dfdb95-1ecc-4418-a330-8a5ffc3dd354",
   "metadata": {},
   "outputs": [],
   "source": [
    "X_all = np.array(mnist.data).astype(int)/255.0\n",
    "y_all = np.array(mnist.target).astype(int)"
   ]
  },
  {
   "cell_type": "code",
   "execution_count": 213,
   "id": "e10b7a0b-b52b-4291-9d3a-e6bf849f7ba3",
   "metadata": {},
   "outputs": [
    {
     "data": {
      "text/plain": [
       "((6903, 784), (7877, 784))"
      ]
     },
     "execution_count": 213,
     "metadata": {},
     "output_type": "execute_result"
    }
   ],
   "source": [
    "X0 = X_all[np.where(y_all == 0)[0]]\n",
    "X1 = X_all[np.where(y_all == 1)[0]]\n",
    "\n",
    "y0 = np.zeros(X0.shape[0]).reshape(-1,1)\n",
    "y1 = np.ones(X1.shape[0]).reshape(-1,1)\n",
    "X0.shape, X1.shape"
   ]
  },
  {
   "cell_type": "code",
   "execution_count": 255,
   "id": "a04c606d-80a7-49d1-b92e-8e29470c3a94",
   "metadata": {},
   "outputs": [
    {
     "data": {
      "text/plain": [
       "((14780, 785), (14780,))"
      ]
     },
     "execution_count": 255,
     "metadata": {},
     "output_type": "execute_result"
    }
   ],
   "source": [
    "X = np.concatenate((X0,X1),axis=0)\n",
    "X = np.concatenate((np.ones((X.shape[0],1)),X),axis=1)\n",
    "\n",
    "y = np.concatenate((y0,y1),axis=0).astype(int)\n",
    "y = y.reshape(y.shape[0],)\n",
    "X.shape, y.shape"
   ]
  },
  {
   "cell_type": "code",
   "execution_count": 257,
   "id": "a30d018a-68c8-4ca9-b313-93e89ef480ad",
   "metadata": {},
   "outputs": [],
   "source": [
    "X_train, X_test, y_train, y_test = train_test_split(X,y,test_size=0.2)"
   ]
  },
  {
   "cell_type": "code",
   "execution_count": 258,
   "id": "422a6cc4-b518-4817-b7f9-4c0e06ae567e",
   "metadata": {},
   "outputs": [
    {
     "data": {
      "text/plain": [
       "LogisticRegression()"
      ]
     },
     "execution_count": 258,
     "metadata": {},
     "output_type": "execute_result"
    }
   ],
   "source": [
    "model = LogisticRegression()\n",
    "model.fit(X_train,y_train)"
   ]
  },
  {
   "cell_type": "code",
   "execution_count": 259,
   "id": "d5a3c9de-75cf-49a0-adbe-a999d58338ed",
   "metadata": {},
   "outputs": [
    {
     "data": {
      "text/plain": [
       "0.9986468200270636"
      ]
     },
     "execution_count": 259,
     "metadata": {},
     "output_type": "execute_result"
    }
   ],
   "source": [
    "model.score(X_test,y_test)"
   ]
  }
 ],
 "metadata": {
  "kernelspec": {
   "display_name": "Python 3 (ipykernel)",
   "language": "python",
   "name": "python3"
  },
  "language_info": {
   "codemirror_mode": {
    "name": "ipython",
    "version": 3
   },
   "file_extension": ".py",
   "mimetype": "text/x-python",
   "name": "python",
   "nbconvert_exporter": "python",
   "pygments_lexer": "ipython3",
   "version": "3.9.7"
  }
 },
 "nbformat": 4,
 "nbformat_minor": 5
}
