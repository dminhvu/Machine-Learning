{
 "cells": [
  {
   "cell_type": "code",
   "execution_count": 1,
   "id": "f108e6be-9046-4cce-bc42-83270f2789ac",
   "metadata": {},
   "outputs": [],
   "source": [
    "import numpy as np\n",
    "import pandas as pd\n",
    "import matplotlib.pyplot as plt\n",
    "from sklearn.model_selection import train_test_split"
   ]
  },
  {
   "cell_type": "markdown",
   "id": "f233eb54",
   "metadata": {},
   "source": [
    "Data here: https://www.kaggle.com/c/titanic/data"
   ]
  },
  {
   "cell_type": "code",
   "execution_count": 2,
   "id": "9687a9df-c778-495d-8307-ed0417173dce",
   "metadata": {},
   "outputs": [
    {
     "data": {
      "text/html": [
       "<div>\n",
       "<style scoped>\n",
       "    .dataframe tbody tr th:only-of-type {\n",
       "        vertical-align: middle;\n",
       "    }\n",
       "\n",
       "    .dataframe tbody tr th {\n",
       "        vertical-align: top;\n",
       "    }\n",
       "\n",
       "    .dataframe thead th {\n",
       "        text-align: right;\n",
       "    }\n",
       "</style>\n",
       "<table border=\"1\" class=\"dataframe\">\n",
       "  <thead>\n",
       "    <tr style=\"text-align: right;\">\n",
       "      <th></th>\n",
       "      <th>PassengerId</th>\n",
       "      <th>Survived</th>\n",
       "      <th>Pclass</th>\n",
       "      <th>Name</th>\n",
       "      <th>Sex</th>\n",
       "      <th>Age</th>\n",
       "      <th>SibSp</th>\n",
       "      <th>Parch</th>\n",
       "      <th>Ticket</th>\n",
       "      <th>Fare</th>\n",
       "      <th>Cabin</th>\n",
       "      <th>Embarked</th>\n",
       "    </tr>\n",
       "  </thead>\n",
       "  <tbody>\n",
       "    <tr>\n",
       "      <th>0</th>\n",
       "      <td>1</td>\n",
       "      <td>0</td>\n",
       "      <td>3</td>\n",
       "      <td>Braund, Mr. Owen Harris</td>\n",
       "      <td>male</td>\n",
       "      <td>22.0</td>\n",
       "      <td>1</td>\n",
       "      <td>0</td>\n",
       "      <td>A/5 21171</td>\n",
       "      <td>7.2500</td>\n",
       "      <td>NaN</td>\n",
       "      <td>S</td>\n",
       "    </tr>\n",
       "    <tr>\n",
       "      <th>1</th>\n",
       "      <td>2</td>\n",
       "      <td>1</td>\n",
       "      <td>1</td>\n",
       "      <td>Cumings, Mrs. John Bradley (Florence Briggs Th...</td>\n",
       "      <td>female</td>\n",
       "      <td>38.0</td>\n",
       "      <td>1</td>\n",
       "      <td>0</td>\n",
       "      <td>PC 17599</td>\n",
       "      <td>71.2833</td>\n",
       "      <td>C85</td>\n",
       "      <td>C</td>\n",
       "    </tr>\n",
       "    <tr>\n",
       "      <th>2</th>\n",
       "      <td>3</td>\n",
       "      <td>1</td>\n",
       "      <td>3</td>\n",
       "      <td>Heikkinen, Miss. Laina</td>\n",
       "      <td>female</td>\n",
       "      <td>26.0</td>\n",
       "      <td>0</td>\n",
       "      <td>0</td>\n",
       "      <td>STON/O2. 3101282</td>\n",
       "      <td>7.9250</td>\n",
       "      <td>NaN</td>\n",
       "      <td>S</td>\n",
       "    </tr>\n",
       "    <tr>\n",
       "      <th>3</th>\n",
       "      <td>4</td>\n",
       "      <td>1</td>\n",
       "      <td>1</td>\n",
       "      <td>Futrelle, Mrs. Jacques Heath (Lily May Peel)</td>\n",
       "      <td>female</td>\n",
       "      <td>35.0</td>\n",
       "      <td>1</td>\n",
       "      <td>0</td>\n",
       "      <td>113803</td>\n",
       "      <td>53.1000</td>\n",
       "      <td>C123</td>\n",
       "      <td>S</td>\n",
       "    </tr>\n",
       "    <tr>\n",
       "      <th>4</th>\n",
       "      <td>5</td>\n",
       "      <td>0</td>\n",
       "      <td>3</td>\n",
       "      <td>Allen, Mr. William Henry</td>\n",
       "      <td>male</td>\n",
       "      <td>35.0</td>\n",
       "      <td>0</td>\n",
       "      <td>0</td>\n",
       "      <td>373450</td>\n",
       "      <td>8.0500</td>\n",
       "      <td>NaN</td>\n",
       "      <td>S</td>\n",
       "    </tr>\n",
       "  </tbody>\n",
       "</table>\n",
       "</div>"
      ],
      "text/plain": [
       "   PassengerId  Survived  Pclass  \\\n",
       "0            1         0       3   \n",
       "1            2         1       1   \n",
       "2            3         1       3   \n",
       "3            4         1       1   \n",
       "4            5         0       3   \n",
       "\n",
       "                                                Name     Sex   Age  SibSp  \\\n",
       "0                            Braund, Mr. Owen Harris    male  22.0      1   \n",
       "1  Cumings, Mrs. John Bradley (Florence Briggs Th...  female  38.0      1   \n",
       "2                             Heikkinen, Miss. Laina  female  26.0      0   \n",
       "3       Futrelle, Mrs. Jacques Heath (Lily May Peel)  female  35.0      1   \n",
       "4                           Allen, Mr. William Henry    male  35.0      0   \n",
       "\n",
       "   Parch            Ticket     Fare Cabin Embarked  \n",
       "0      0         A/5 21171   7.2500   NaN        S  \n",
       "1      0          PC 17599  71.2833   C85        C  \n",
       "2      0  STON/O2. 3101282   7.9250   NaN        S  \n",
       "3      0            113803  53.1000  C123        S  \n",
       "4      0            373450   8.0500   NaN        S  "
      ]
     },
     "execution_count": 2,
     "metadata": {},
     "output_type": "execute_result"
    }
   ],
   "source": [
    "df = pd.read_csv('train.csv')\n",
    "df.head()"
   ]
  },
  {
   "cell_type": "code",
   "execution_count": 3,
   "id": "799b2c91-3a25-4364-94d4-9ba71246fdb8",
   "metadata": {},
   "outputs": [
    {
     "data": {
      "text/plain": [
       "(891, 12)"
      ]
     },
     "execution_count": 3,
     "metadata": {},
     "output_type": "execute_result"
    }
   ],
   "source": [
    "df.shape"
   ]
  },
  {
   "cell_type": "code",
   "execution_count": 4,
   "id": "ebd13aa0-b9e4-4eea-b4e6-8dfcf8084f01",
   "metadata": {},
   "outputs": [
    {
     "data": {
      "text/plain": [
       "PassengerId      0\n",
       "Survived         0\n",
       "Pclass           0\n",
       "Name             0\n",
       "Sex              0\n",
       "Age            177\n",
       "SibSp            0\n",
       "Parch            0\n",
       "Ticket           0\n",
       "Fare             0\n",
       "Cabin          687\n",
       "Embarked         2\n",
       "dtype: int64"
      ]
     },
     "execution_count": 4,
     "metadata": {},
     "output_type": "execute_result"
    }
   ],
   "source": [
    "df.isnull().sum()"
   ]
  },
  {
   "cell_type": "code",
   "execution_count": 5,
   "id": "28007e9c-d7a3-40a3-89d1-93ef6ac05e85",
   "metadata": {},
   "outputs": [
    {
     "data": {
      "text/plain": [
       "30"
      ]
     },
     "execution_count": 5,
     "metadata": {},
     "output_type": "execute_result"
    }
   ],
   "source": [
    "mean_age = round(df['Age'].mean())\n",
    "mean_age"
   ]
  },
  {
   "cell_type": "code",
   "execution_count": 6,
   "id": "58acf54a-8327-4e08-ad5f-b507bce4a987",
   "metadata": {},
   "outputs": [
    {
     "name": "stderr",
     "output_type": "stream",
     "text": [
      "C:\\Users\\Desmond\\AppData\\Local\\Temp/ipykernel_14848/390067799.py:4: SettingWithCopyWarning: \n",
      "A value is trying to be set on a copy of a slice from a DataFrame\n",
      "\n",
      "See the caveats in the documentation: https://pandas.pydata.org/pandas-docs/stable/user_guide/indexing.html#returning-a-view-versus-a-copy\n",
      "  df2['Age'][i] = mean_age\n"
     ]
    }
   ],
   "source": [
    "df2 = df.copy()\n",
    "for i in range(len(df2)):\n",
    "    if np.isnan(df2['Age'][i]):\n",
    "        df2['Age'][i] = mean_age"
   ]
  },
  {
   "cell_type": "code",
   "execution_count": 7,
   "id": "20aa5397-8398-4b10-8874-6cafa12e4c64",
   "metadata": {},
   "outputs": [
    {
     "data": {
      "text/plain": [
       "PassengerId      0\n",
       "Survived         0\n",
       "Pclass           0\n",
       "Name             0\n",
       "Sex              0\n",
       "Age              0\n",
       "SibSp            0\n",
       "Parch            0\n",
       "Ticket           0\n",
       "Fare             0\n",
       "Cabin          687\n",
       "Embarked         2\n",
       "dtype: int64"
      ]
     },
     "execution_count": 7,
     "metadata": {},
     "output_type": "execute_result"
    }
   ],
   "source": [
    "df2.isnull().sum()"
   ]
  },
  {
   "cell_type": "code",
   "execution_count": 8,
   "id": "e969fb85-f6d9-4b69-8df0-dc696e22ca98",
   "metadata": {},
   "outputs": [
    {
     "data": {
      "text/html": [
       "<div>\n",
       "<style scoped>\n",
       "    .dataframe tbody tr th:only-of-type {\n",
       "        vertical-align: middle;\n",
       "    }\n",
       "\n",
       "    .dataframe tbody tr th {\n",
       "        vertical-align: top;\n",
       "    }\n",
       "\n",
       "    .dataframe thead th {\n",
       "        text-align: right;\n",
       "    }\n",
       "</style>\n",
       "<table border=\"1\" class=\"dataframe\">\n",
       "  <thead>\n",
       "    <tr style=\"text-align: right;\">\n",
       "      <th></th>\n",
       "      <th>Survived</th>\n",
       "      <th>Pclass</th>\n",
       "      <th>Sex</th>\n",
       "      <th>Age</th>\n",
       "      <th>SibSp</th>\n",
       "      <th>Parch</th>\n",
       "      <th>Fare</th>\n",
       "    </tr>\n",
       "  </thead>\n",
       "  <tbody>\n",
       "    <tr>\n",
       "      <th>0</th>\n",
       "      <td>0</td>\n",
       "      <td>3</td>\n",
       "      <td>male</td>\n",
       "      <td>22.0</td>\n",
       "      <td>1</td>\n",
       "      <td>0</td>\n",
       "      <td>7.2500</td>\n",
       "    </tr>\n",
       "    <tr>\n",
       "      <th>1</th>\n",
       "      <td>1</td>\n",
       "      <td>1</td>\n",
       "      <td>female</td>\n",
       "      <td>38.0</td>\n",
       "      <td>1</td>\n",
       "      <td>0</td>\n",
       "      <td>71.2833</td>\n",
       "    </tr>\n",
       "    <tr>\n",
       "      <th>2</th>\n",
       "      <td>1</td>\n",
       "      <td>3</td>\n",
       "      <td>female</td>\n",
       "      <td>26.0</td>\n",
       "      <td>0</td>\n",
       "      <td>0</td>\n",
       "      <td>7.9250</td>\n",
       "    </tr>\n",
       "    <tr>\n",
       "      <th>3</th>\n",
       "      <td>1</td>\n",
       "      <td>1</td>\n",
       "      <td>female</td>\n",
       "      <td>35.0</td>\n",
       "      <td>1</td>\n",
       "      <td>0</td>\n",
       "      <td>53.1000</td>\n",
       "    </tr>\n",
       "    <tr>\n",
       "      <th>4</th>\n",
       "      <td>0</td>\n",
       "      <td>3</td>\n",
       "      <td>male</td>\n",
       "      <td>35.0</td>\n",
       "      <td>0</td>\n",
       "      <td>0</td>\n",
       "      <td>8.0500</td>\n",
       "    </tr>\n",
       "  </tbody>\n",
       "</table>\n",
       "</div>"
      ],
      "text/plain": [
       "   Survived  Pclass     Sex   Age  SibSp  Parch     Fare\n",
       "0         0       3    male  22.0      1      0   7.2500\n",
       "1         1       1  female  38.0      1      0  71.2833\n",
       "2         1       3  female  26.0      0      0   7.9250\n",
       "3         1       1  female  35.0      1      0  53.1000\n",
       "4         0       3    male  35.0      0      0   8.0500"
      ]
     },
     "execution_count": 8,
     "metadata": {},
     "output_type": "execute_result"
    }
   ],
   "source": [
    "df3 = df2.drop(['PassengerId','Name','Cabin','Embarked','Ticket'],axis=1)\n",
    "df3.head()"
   ]
  },
  {
   "cell_type": "code",
   "execution_count": 9,
   "id": "0f4ba4d7-2edf-422d-8a06-a0f9ba86c5db",
   "metadata": {},
   "outputs": [
    {
     "data": {
      "text/plain": [
       "Survived    0\n",
       "Pclass      0\n",
       "Sex         0\n",
       "Age         0\n",
       "SibSp       0\n",
       "Parch       0\n",
       "Fare        0\n",
       "dtype: int64"
      ]
     },
     "execution_count": 9,
     "metadata": {},
     "output_type": "execute_result"
    }
   ],
   "source": [
    "df3.isnull().sum()"
   ]
  },
  {
   "cell_type": "code",
   "execution_count": 10,
   "id": "3e2311cf-a276-43bf-8445-a927d26ab699",
   "metadata": {},
   "outputs": [
    {
     "data": {
      "text/html": [
       "<div>\n",
       "<style scoped>\n",
       "    .dataframe tbody tr th:only-of-type {\n",
       "        vertical-align: middle;\n",
       "    }\n",
       "\n",
       "    .dataframe tbody tr th {\n",
       "        vertical-align: top;\n",
       "    }\n",
       "\n",
       "    .dataframe thead th {\n",
       "        text-align: right;\n",
       "    }\n",
       "</style>\n",
       "<table border=\"1\" class=\"dataframe\">\n",
       "  <thead>\n",
       "    <tr style=\"text-align: right;\">\n",
       "      <th></th>\n",
       "      <th>Survived</th>\n",
       "      <th>Pclass</th>\n",
       "      <th>Sex</th>\n",
       "      <th>Age</th>\n",
       "      <th>SibSp</th>\n",
       "      <th>Parch</th>\n",
       "      <th>Fare</th>\n",
       "    </tr>\n",
       "  </thead>\n",
       "  <tbody>\n",
       "    <tr>\n",
       "      <th>0</th>\n",
       "      <td>0</td>\n",
       "      <td>0.826913</td>\n",
       "      <td>0</td>\n",
       "      <td>-0.596720</td>\n",
       "      <td>1</td>\n",
       "      <td>-0.473408</td>\n",
       "      <td>-0.502163</td>\n",
       "    </tr>\n",
       "    <tr>\n",
       "      <th>1</th>\n",
       "      <td>1</td>\n",
       "      <td>-1.565228</td>\n",
       "      <td>1</td>\n",
       "      <td>0.633806</td>\n",
       "      <td>1</td>\n",
       "      <td>-0.473408</td>\n",
       "      <td>0.786404</td>\n",
       "    </tr>\n",
       "    <tr>\n",
       "      <th>2</th>\n",
       "      <td>1</td>\n",
       "      <td>0.826913</td>\n",
       "      <td>1</td>\n",
       "      <td>-0.289088</td>\n",
       "      <td>0</td>\n",
       "      <td>-0.473408</td>\n",
       "      <td>-0.488580</td>\n",
       "    </tr>\n",
       "    <tr>\n",
       "      <th>3</th>\n",
       "      <td>1</td>\n",
       "      <td>-1.565228</td>\n",
       "      <td>1</td>\n",
       "      <td>0.403083</td>\n",
       "      <td>1</td>\n",
       "      <td>-0.473408</td>\n",
       "      <td>0.420494</td>\n",
       "    </tr>\n",
       "    <tr>\n",
       "      <th>4</th>\n",
       "      <td>0</td>\n",
       "      <td>0.826913</td>\n",
       "      <td>0</td>\n",
       "      <td>0.403083</td>\n",
       "      <td>0</td>\n",
       "      <td>-0.473408</td>\n",
       "      <td>-0.486064</td>\n",
       "    </tr>\n",
       "  </tbody>\n",
       "</table>\n",
       "</div>"
      ],
      "text/plain": [
       "   Survived    Pclass  Sex       Age  SibSp     Parch      Fare\n",
       "0         0  0.826913    0 -0.596720      1 -0.473408 -0.502163\n",
       "1         1 -1.565228    1  0.633806      1 -0.473408  0.786404\n",
       "2         1  0.826913    1 -0.289088      0 -0.473408 -0.488580\n",
       "3         1 -1.565228    1  0.403083      1 -0.473408  0.420494\n",
       "4         0  0.826913    0  0.403083      0 -0.473408 -0.486064"
      ]
     },
     "execution_count": 10,
     "metadata": {},
     "output_type": "execute_result"
    }
   ],
   "source": [
    "df4 = df3.copy()\n",
    "map_sex = {\n",
    "    'male': 0,\n",
    "    'female': 1,\n",
    "}\n",
    "df4 = df4.replace({'Sex': map_sex})\n",
    "df4['Fare'] = (df4['Fare'] - df4['Fare'].mean())/df4['Fare'].std()\n",
    "df4['Age'] = (df4['Age'] - df4['Age'].mean())/df4['Age'].std()\n",
    "df4['Parch'] = (df4['Parch'] - df4['Parch'].mean())/df4['Parch'].std()\n",
    "df4['Pclass'] = (df4['Pclass'] - df4['Pclass'].mean())/df4['Pclass'].std()\n",
    "df4.head()"
   ]
  },
  {
   "cell_type": "code",
   "execution_count": 11,
   "id": "24112f20-58ba-4b3a-958c-e93c9a41ab91",
   "metadata": {},
   "outputs": [
    {
     "data": {
      "text/plain": [
       "(array([[ 0.82691282,  0.        , -0.59671964,  1.        , -0.47340772,\n",
       "         -0.50216314],\n",
       "        [-1.56522783,  1.        ,  0.63380632,  1.        , -0.47340772,\n",
       "          0.78640362],\n",
       "        [ 0.82691282,  1.        , -0.28908815,  0.        , -0.47340772,\n",
       "         -0.48857985],\n",
       "        [-1.56522783,  1.        ,  0.40308271,  1.        , -0.47340772,\n",
       "          0.42049407],\n",
       "        [ 0.82691282,  0.        ,  0.40308271,  0.        , -0.47340772,\n",
       "         -0.48606443]]),\n",
       " array([[0],\n",
       "        [1],\n",
       "        [1],\n",
       "        [1],\n",
       "        [0]], dtype=int64))"
      ]
     },
     "execution_count": 11,
     "metadata": {},
     "output_type": "execute_result"
    }
   ],
   "source": [
    "X = df4.drop(['Survived'],axis=1).values\n",
    "y = df4['Survived'].values.reshape(-1,1)\n",
    "X[:5], y[:5]"
   ]
  },
  {
   "cell_type": "code",
   "execution_count": 12,
   "id": "bb37c4aa",
   "metadata": {},
   "outputs": [
    {
     "data": {
      "text/plain": [
       "(((712, 6), (712, 1)), ((179, 6), (179, 1)))"
      ]
     },
     "execution_count": 12,
     "metadata": {},
     "output_type": "execute_result"
    }
   ],
   "source": [
    "X_train, X_test, y_train, y_test = train_test_split(X,y,test_size=0.2)\n",
    "(X_train.shape, y_train.shape), (X_test.shape, y_test.shape)"
   ]
  },
  {
   "cell_type": "code",
   "execution_count": 13,
   "id": "949adeb3-75ff-422f-ba71-86408138fe6a",
   "metadata": {},
   "outputs": [],
   "source": [
    "class LogisticRegression:\n",
    "\n",
    "    def sigmoid(self,z):\n",
    "        '''\n",
    "        This function applies the sigmoid function to z.\n",
    "        '''\n",
    "\n",
    "        return 1/(1 + np.exp(-z))\n",
    "\n",
    "    def calculate_loss(self,y,y_hat):\n",
    "        '''\n",
    "        This function returns the binary cross-entropy loss function for y and y_hat.\n",
    "        '''\n",
    "\n",
    "        return -(y*np.log(y_hat) + (1-y)*np.log(1-y_hat)).mean()\n",
    "    \n",
    "    def calculate_gradient(self,X,y,y_hat):\n",
    "        '''\n",
    "        This function calculates the gradient for X, y and y_hat.\n",
    "        '''\n",
    "\n",
    "        return np.dot(X.T,y_hat-y) / y.size\n",
    "    \n",
    "    def predict(self,X,theta):\n",
    "        '''\n",
    "        This function returns the predicted values for current X and theta.\n",
    "        '''\n",
    "\n",
    "        y_hat = self.sigmoid(np.dot(X,theta))\n",
    "        return y_hat\n",
    "    \n",
    "    def fit(self,X_train,y_train,val,epochs=100,lr=0.01,gamma=0.9,batch_size=32,verbose=10):\n",
    "        '''\n",
    "        This function fits the data provided.\n",
    "        - losses: save loss after every iteration\n",
    "        - epoch_losses: save loss after one epoch\n",
    "        - train_accs: save accuracy on train data\n",
    "        - val_accs: save accuracy on validate data\n",
    "        - weights: store weights of model\n",
    "        '''\n",
    "\n",
    "        losses = []\n",
    "        epoch_losses = []\n",
    "        train_accs = []\n",
    "        val_accs = []\n",
    "        max_val_acc = 0\n",
    "        \n",
    "        best_weights = np.random.rand(X_train.shape[1]+1,1)\n",
    "        weights = np.random.rand(X_train.shape[1]+1,1)\n",
    "        \n",
    "        X_train = np.concatenate((np.ones((X_train.shape[0],1)),X_train),axis=1)\n",
    "\n",
    "        X_val, y_val = val\n",
    "        X_val = np.concatenate((np.ones((X_val.shape[0],1)),X_val),axis=1)\n",
    "\n",
    "        n_samples = X_train.shape[0]\n",
    "        n_steps = int(np.ceil(X_train.shape[0] // batch_size))\n",
    "\n",
    "        v = np.zeros((X_train.shape[1],1))\n",
    "\n",
    "        for epoch in range(epochs):\n",
    "            id_permutations = np.random.permutation(n_samples)\n",
    "\n",
    "            X_train_shuffled = X_train[id_permutations]\n",
    "            y_train_shuffled = y_train[id_permutations]\n",
    "            \n",
    "            epoch_loss = 0\n",
    "            for step in range(n_steps):\n",
    "                Xi = X_train_shuffled[step*batch_size:(step+1)*batch_size]\n",
    "                yi = y_train_shuffled[step*batch_size:(step+1)*batch_size]\n",
    "                \n",
    "                y_hat = self.predict(Xi,weights - gamma*v)\n",
    "                loss = self.calculate_loss(yi,y_hat)\n",
    "                losses.append(loss)\n",
    "                epoch_loss += loss\n",
    "                \n",
    "                gradient = self.calculate_gradient(Xi,yi,y_hat)\n",
    "                weights -= (lr*gradient + gamma*v)\n",
    "                v = gamma*v + lr*gradient\n",
    "\n",
    "                y_train_pred = self.predict(Xi,weights).round()\n",
    "                train_acc = (y_train_pred == yi).mean()\n",
    "                train_accs.append(train_acc)\n",
    "\n",
    "                y_val_pred = self.predict(X_val,weights).round()\n",
    "                val_acc = (y_val_pred == y_val).mean()\n",
    "                val_accs.append(val_acc)\n",
    "            \n",
    "            epoch_loss /= n_steps\n",
    "            epoch_losses.append(epoch_loss)\n",
    "\n",
    "            y_val_pred = self.predict(X_val,weights).round()\n",
    "            val_acc = (y_val_pred == y_val).mean()\n",
    "\n",
    "            if val_acc > max_val_acc:\n",
    "                best_weights = weights\n",
    "                max_val_acc = val_acc\n",
    "\n",
    "            if epoch % verbose == 0 or epoch == epochs-1:\n",
    "                print(f'Epoch {epoch} ----- loss: {round(epoch_loss,4)}, acc: {round(val_acc,4)}, best acc: {round(max_val_acc,4)}')\n",
    "            \n",
    "        self.weights = weights\n",
    "        self.best_weights = best_weights\n",
    "        self.losses = losses\n",
    "        self.epoch_losses = epoch_losses\n",
    "        self.train_accs = train_accs\n",
    "        self.val_accs = val_accs\n",
    "\n",
    "    def score(self,X_test,y_test):\n",
    "        X_test = np.concatenate((np.ones((X_test.shape[0],1)),X_test),axis=1)\n",
    "        y_hat = self.predict(X_test,self.weights).round()\n",
    "        acc = (y_hat == y_test).mean()\n",
    "        return acc"
   ]
  },
  {
   "cell_type": "code",
   "execution_count": 14,
   "id": "549d7b4f-dc0a-4c18-922b-798a5c9b6ad6",
   "metadata": {},
   "outputs": [
    {
     "name": "stdout",
     "output_type": "stream",
     "text": [
      "Epoch 0 ----- loss: 0.9298, acc: 0.5084, best acc: 0.5084\n",
      "Epoch 5000 ----- loss: 0.5207, acc: 0.7486, best acc: 0.7486\n",
      "Epoch 10000 ----- loss: 0.4812, acc: 0.7765, best acc: 0.7821\n",
      "Epoch 15000 ----- loss: 0.4641, acc: 0.7877, best acc: 0.7933\n",
      "Epoch 20000 ----- loss: 0.4565, acc: 0.7821, best acc: 0.7933\n",
      "Epoch 25000 ----- loss: 0.4465, acc: 0.7821, best acc: 0.7933\n",
      "Epoch 30000 ----- loss: 0.4499, acc: 0.7933, best acc: 0.7989\n",
      "Epoch 35000 ----- loss: 0.4445, acc: 0.7933, best acc: 0.7989\n",
      "Epoch 40000 ----- loss: 0.4475, acc: 0.7877, best acc: 0.7989\n",
      "Epoch 45000 ----- loss: 0.445, acc: 0.7821, best acc: 0.7989\n",
      "Epoch 50000 ----- loss: 0.4418, acc: 0.7765, best acc: 0.7989\n",
      "Epoch 55000 ----- loss: 0.4459, acc: 0.7765, best acc: 0.7989\n",
      "Epoch 60000 ----- loss: 0.447, acc: 0.7765, best acc: 0.7989\n",
      "Epoch 65000 ----- loss: 0.4471, acc: 0.7821, best acc: 0.7989\n",
      "Epoch 70000 ----- loss: 0.4399, acc: 0.7821, best acc: 0.7989\n",
      "Epoch 75000 ----- loss: 0.447, acc: 0.7821, best acc: 0.7989\n",
      "Epoch 79999 ----- loss: 0.4443, acc: 0.7821, best acc: 0.7989\n"
     ]
    },
    {
     "data": {
      "text/plain": [
       "[<matplotlib.lines.Line2D at 0x1728a3168e0>]"
      ]
     },
     "execution_count": 14,
     "metadata": {},
     "output_type": "execute_result"
    },
    {
     "data": {
      "image/png": "[encoded data removed]",
      "text/plain": [
       "<Figure size 432x288 with 1 Axes>"
      ]
     },
     "metadata": {
      "needs_background": "light"
     },
     "output_type": "display_data"
    }
   ],
   "source": [
    "model = LogisticRegression()\n",
    "model.fit(X_train,y_train,val=(X_test,y_test),lr=0.00000837,batch_size=32,epochs=80000,verbose=5000)\n",
    "\n",
    "plt.xlabel('Iterations')\n",
    "plt.ylabel('Losses')\n",
    "plt.plot(model.losses)"
   ]
  },
  {
   "cell_type": "code",
   "execution_count": 15,
   "id": "8f48ff19-1435-4239-97a5-c7b76e87bc29",
   "metadata": {},
   "outputs": [
    {
     "data": {
      "text/plain": [
       "[<matplotlib.lines.Line2D at 0x17280140370>]"
      ]
     },
     "execution_count": 15,
     "metadata": {},
     "output_type": "execute_result"
    },
    {
     "data": {
      "image/png": "[encoded data removed]",
      "text/plain": [
       "<Figure size 432x288 with 1 Axes>"
      ]
     },
     "metadata": {
      "needs_background": "light"
     },
     "output_type": "display_data"
    }
   ],
   "source": [
    "plt.xlabel('Iterations')\n",
    "plt.ylabel('Training accuracy')\n",
    "plt.plot(model.train_accs)"
   ]
  },
  {
   "cell_type": "code",
   "execution_count": 16,
   "id": "00437dd9-aeca-43b2-ab23-aa1e0a8dacc2",
   "metadata": {},
   "outputs": [
    {
     "data": {
      "text/plain": [
       "[<matplotlib.lines.Line2D at 0x1728b187910>]"
      ]
     },
     "execution_count": 16,
     "metadata": {},
     "output_type": "execute_result"
    },
    {
     "data": {
      "image/png": "[encoded data removed]",
      "text/plain": [
       "<Figure size 432x288 with 1 Axes>"
      ]
     },
     "metadata": {
      "needs_background": "light"
     },
     "output_type": "display_data"
    }
   ],
   "source": [
    "plt.xlabel('Iterations')\n",
    "plt.ylabel('Validation accuracy')\n",
    "plt.plot(model.val_accs)"
   ]
  },
  {
   "cell_type": "code",
   "execution_count": 17,
   "id": "05de5b82-b8ff-455b-b0d8-f769db7cc106",
   "metadata": {},
   "outputs": [
    {
     "data": {
      "text/plain": [
       "PassengerId     0\n",
       "Pclass          0\n",
       "Sex             0\n",
       "Age            86\n",
       "SibSp           0\n",
       "Parch           0\n",
       "Fare            1\n",
       "dtype: int64"
      ]
     },
     "execution_count": 17,
     "metadata": {},
     "output_type": "execute_result"
    }
   ],
   "source": [
    "df_test = pd.read_csv('test.csv')\n",
    "df_test = df_test.drop(['Name','Cabin','Embarked','Ticket'],axis=1)\n",
    "df_test.isnull().sum()"
   ]
  },
  {
   "cell_type": "code",
   "execution_count": 18,
   "id": "2215a49e-1894-4f7c-8a47-6337bf58c437",
   "metadata": {},
   "outputs": [
    {
     "name": "stderr",
     "output_type": "stream",
     "text": [
      "C:\\Users\\Desmond\\AppData\\Local\\Temp/ipykernel_14848/2571279304.py:3: SettingWithCopyWarning: \n",
      "A value is trying to be set on a copy of a slice from a DataFrame\n",
      "\n",
      "See the caveats in the documentation: https://pandas.pydata.org/pandas-docs/stable/user_guide/indexing.html#returning-a-view-versus-a-copy\n",
      "  df_test['Age'][i] = round(df_test['Age'].mean())\n",
      "C:\\Users\\Desmond\\AppData\\Local\\Temp/ipykernel_14848/2571279304.py:5: SettingWithCopyWarning: \n",
      "A value is trying to be set on a copy of a slice from a DataFrame\n",
      "\n",
      "See the caveats in the documentation: https://pandas.pydata.org/pandas-docs/stable/user_guide/indexing.html#returning-a-view-versus-a-copy\n",
      "  df_test['Fare'][i] = round(df_test['Fare'].mean())\n"
     ]
    }
   ],
   "source": [
    "for i in range(len(df_test)):\n",
    "    if np.isnan(df_test['Age'][i]):\n",
    "        df_test['Age'][i] = round(df_test['Age'].mean())\n",
    "    if np.isnan(df_test['Fare'][i]):\n",
    "        df_test['Fare'][i] = round(df_test['Fare'].mean())"
   ]
  },
  {
   "cell_type": "code",
   "execution_count": 19,
   "id": "9d853e3c-2147-4f4e-af1f-e7da9fc02077",
   "metadata": {},
   "outputs": [
    {
     "data": {
      "text/plain": [
       "PassengerId    0\n",
       "Pclass         0\n",
       "Sex            0\n",
       "Age            0\n",
       "SibSp          0\n",
       "Parch          0\n",
       "Fare           0\n",
       "dtype: int64"
      ]
     },
     "execution_count": 19,
     "metadata": {},
     "output_type": "execute_result"
    }
   ],
   "source": [
    "df_test.isnull().sum()"
   ]
  },
  {
   "cell_type": "code",
   "execution_count": 20,
   "id": "2707bd8f-e014-4a70-8576-ac215b6fb7c7",
   "metadata": {},
   "outputs": [],
   "source": [
    "map_sex = {\n",
    "    'male': 0,\n",
    "    'female': 1,\n",
    "}\n",
    "df_test = df_test.replace({'Sex': map_sex})\n",
    "df_test['Fare'] = (df_test['Fare'] - df_test['Fare'].mean())/df_test['Fare'].std()\n",
    "df_test['Age'] = (df_test['Age'] - df_test['Age'].mean())/df_test['Age'].std()\n",
    "df_test['Parch'] = (df_test['Parch'] - df_test['Parch'].mean())/df_test['Parch'].std()\n",
    "df_test['Pclass'] = (df_test['Pclass'] - df_test['Pclass'].mean())/df_test['Pclass'].std()"
   ]
  },
  {
   "cell_type": "code",
   "execution_count": 21,
   "id": "5d935649-6286-4fe2-b602-5b23146f5688",
   "metadata": {},
   "outputs": [
    {
     "data": {
      "text/plain": [
       "array([[ 0.87243644,  0.        ,  0.33901761,  0.        , -0.39976865,\n",
       "        -0.49782646],\n",
       "       [ 0.87243644,  1.        ,  1.32833176,  1.        , -0.39976865,\n",
       "        -0.5126759 ],\n",
       "       [-0.31544119,  0.        ,  2.51550874,  0.        , -0.39976865,\n",
       "        -0.46454775],\n",
       "       [ 0.87243644,  0.        , -0.25457089,  0.        , -0.39976865,\n",
       "        -0.4829036 ],\n",
       "       [ 0.87243644,  1.        , -0.65029655,  1.        ,  0.61915388,\n",
       "        -0.41798657]])"
      ]
     },
     "execution_count": 21,
     "metadata": {},
     "output_type": "execute_result"
    }
   ],
   "source": [
    "X_test = df_test.drop(['PassengerId'],axis=1).values\n",
    "X_test[:5]"
   ]
  },
  {
   "cell_type": "code",
   "execution_count": 22,
   "id": "69549503-44d2-44d4-bfaa-f26d0581bc69",
   "metadata": {},
   "outputs": [
    {
     "data": {
      "text/plain": [
       "array([[ 1.        ,  0.87243644,  0.        ,  0.33901761,  0.        ,\n",
       "        -0.39976865, -0.49782646],\n",
       "       [ 1.        ,  0.87243644,  1.        ,  1.32833176,  1.        ,\n",
       "        -0.39976865, -0.5126759 ],\n",
       "       [ 1.        , -0.31544119,  0.        ,  2.51550874,  0.        ,\n",
       "        -0.39976865, -0.46454775],\n",
       "       [ 1.        ,  0.87243644,  0.        , -0.25457089,  0.        ,\n",
       "        -0.39976865, -0.4829036 ],\n",
       "       [ 1.        ,  0.87243644,  1.        , -0.65029655,  1.        ,\n",
       "         0.61915388, -0.41798657]])"
      ]
     },
     "execution_count": 22,
     "metadata": {},
     "output_type": "execute_result"
    }
   ],
   "source": [
    "X_test = np.concatenate((np.ones((X_test.shape[0],1)),X_test),axis=1)\n",
    "X_test[:5]"
   ]
  },
  {
   "cell_type": "code",
   "execution_count": 23,
   "id": "6247fe02-3e63-40e5-9433-7c9edfb69966",
   "metadata": {},
   "outputs": [
    {
     "data": {
      "text/plain": [
       "(418,)"
      ]
     },
     "execution_count": 23,
     "metadata": {},
     "output_type": "execute_result"
    }
   ],
   "source": [
    "y_pred = model.predict(X_test,model.best_weights).round().reshape(418,).astype(int)\n",
    "y_pred.shape"
   ]
  },
  {
   "cell_type": "code",
   "execution_count": 24,
   "id": "c92d3c7c-2e7e-4c61-a894-20bcfe60b281",
   "metadata": {},
   "outputs": [
    {
     "data": {
      "text/plain": [
       "(418,)"
      ]
     },
     "execution_count": 24,
     "metadata": {},
     "output_type": "execute_result"
    }
   ],
   "source": [
    "ids = df_test['PassengerId'].values\n",
    "ids.shape"
   ]
  },
  {
   "cell_type": "code",
   "execution_count": 25,
   "id": "22457953-9999-4caf-981e-93534b77520f",
   "metadata": {},
   "outputs": [
    {
     "data": {
      "text/html": [
       "<div>\n",
       "<style scoped>\n",
       "    .dataframe tbody tr th:only-of-type {\n",
       "        vertical-align: middle;\n",
       "    }\n",
       "\n",
       "    .dataframe tbody tr th {\n",
       "        vertical-align: top;\n",
       "    }\n",
       "\n",
       "    .dataframe thead th {\n",
       "        text-align: right;\n",
       "    }\n",
       "</style>\n",
       "<table border=\"1\" class=\"dataframe\">\n",
       "  <thead>\n",
       "    <tr style=\"text-align: right;\">\n",
       "      <th></th>\n",
       "      <th>PassengerId</th>\n",
       "      <th>Survived</th>\n",
       "    </tr>\n",
       "  </thead>\n",
       "  <tbody>\n",
       "    <tr>\n",
       "      <th>0</th>\n",
       "      <td>892</td>\n",
       "      <td>0</td>\n",
       "    </tr>\n",
       "    <tr>\n",
       "      <th>1</th>\n",
       "      <td>893</td>\n",
       "      <td>0</td>\n",
       "    </tr>\n",
       "    <tr>\n",
       "      <th>2</th>\n",
       "      <td>894</td>\n",
       "      <td>0</td>\n",
       "    </tr>\n",
       "    <tr>\n",
       "      <th>3</th>\n",
       "      <td>895</td>\n",
       "      <td>0</td>\n",
       "    </tr>\n",
       "    <tr>\n",
       "      <th>4</th>\n",
       "      <td>896</td>\n",
       "      <td>1</td>\n",
       "    </tr>\n",
       "    <tr>\n",
       "      <th>...</th>\n",
       "      <td>...</td>\n",
       "      <td>...</td>\n",
       "    </tr>\n",
       "    <tr>\n",
       "      <th>413</th>\n",
       "      <td>1305</td>\n",
       "      <td>0</td>\n",
       "    </tr>\n",
       "    <tr>\n",
       "      <th>414</th>\n",
       "      <td>1306</td>\n",
       "      <td>1</td>\n",
       "    </tr>\n",
       "    <tr>\n",
       "      <th>415</th>\n",
       "      <td>1307</td>\n",
       "      <td>0</td>\n",
       "    </tr>\n",
       "    <tr>\n",
       "      <th>416</th>\n",
       "      <td>1308</td>\n",
       "      <td>0</td>\n",
       "    </tr>\n",
       "    <tr>\n",
       "      <th>417</th>\n",
       "      <td>1309</td>\n",
       "      <td>0</td>\n",
       "    </tr>\n",
       "  </tbody>\n",
       "</table>\n",
       "<p>418 rows × 2 columns</p>\n",
       "</div>"
      ],
      "text/plain": [
       "     PassengerId  Survived\n",
       "0            892         0\n",
       "1            893         0\n",
       "2            894         0\n",
       "3            895         0\n",
       "4            896         1\n",
       "..           ...       ...\n",
       "413         1305         0\n",
       "414         1306         1\n",
       "415         1307         0\n",
       "416         1308         0\n",
       "417         1309         0\n",
       "\n",
       "[418 rows x 2 columns]"
      ]
     },
     "execution_count": 25,
     "metadata": {},
     "output_type": "execute_result"
    }
   ],
   "source": [
    "submission = pd.DataFrame({'PassengerId': ids, 'Survived': y_pred})\n",
    "submission"
   ]
  },
  {
   "cell_type": "code",
   "execution_count": 26,
   "id": "f299caeb-5a6c-408f-9a3a-b1b50a1023eb",
   "metadata": {},
   "outputs": [],
   "source": [
    "submission.to_csv('submission.csv',index=False)"
   ]
  }
 ],
 "metadata": {
  "kernelspec": {
   "display_name": "Python 3 (ipykernel)",
   "language": "python",
   "name": "python3"
  },
  "language_info": {
   "codemirror_mode": {
    "name": "ipython",
    "version": 3
   },
   "file_extension": ".py",
   "mimetype": "text/x-python",
   "name": "python",
   "nbconvert_exporter": "python",
   "pygments_lexer": "ipython3",
   "version": "3.9.7"
  }
 },
 "nbformat": 4,
 "nbformat_minor": 5
}
