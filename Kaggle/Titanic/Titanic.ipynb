{
 "cells": [
  {
   "cell_type": "code",
   "execution_count": 1,
   "id": "f108e6be-9046-4cce-bc42-83270f2789ac",
   "metadata": {},
   "outputs": [],
   "source": [
    "import numpy as np\n",
    "import pandas as pd\n",
    "import matplotlib.pyplot as plt"
   ]
  },
  {
   "cell_type": "code",
   "execution_count": 2,
   "id": "9687a9df-c778-495d-8307-ed0417173dce",
   "metadata": {},
   "outputs": [
    {
     "data": {
      "text/html": [
       "<div>\n",
       "<style scoped>\n",
       "    .dataframe tbody tr th:only-of-type {\n",
       "        vertical-align: middle;\n",
       "    }\n",
       "\n",
       "    .dataframe tbody tr th {\n",
       "        vertical-align: top;\n",
       "    }\n",
       "\n",
       "    .dataframe thead th {\n",
       "        text-align: right;\n",
       "    }\n",
       "</style>\n",
       "<table border=\"1\" class=\"dataframe\">\n",
       "  <thead>\n",
       "    <tr style=\"text-align: right;\">\n",
       "      <th></th>\n",
       "      <th>PassengerId</th>\n",
       "      <th>Survived</th>\n",
       "      <th>Pclass</th>\n",
       "      <th>Name</th>\n",
       "      <th>Sex</th>\n",
       "      <th>Age</th>\n",
       "      <th>SibSp</th>\n",
       "      <th>Parch</th>\n",
       "      <th>Ticket</th>\n",
       "      <th>Fare</th>\n",
       "      <th>Cabin</th>\n",
       "      <th>Embarked</th>\n",
       "    </tr>\n",
       "  </thead>\n",
       "  <tbody>\n",
       "    <tr>\n",
       "      <th>0</th>\n",
       "      <td>1</td>\n",
       "      <td>0</td>\n",
       "      <td>3</td>\n",
       "      <td>Braund, Mr. Owen Harris</td>\n",
       "      <td>male</td>\n",
       "      <td>22.0</td>\n",
       "      <td>1</td>\n",
       "      <td>0</td>\n",
       "      <td>A/5 21171</td>\n",
       "      <td>7.2500</td>\n",
       "      <td>NaN</td>\n",
       "      <td>S</td>\n",
       "    </tr>\n",
       "    <tr>\n",
       "      <th>1</th>\n",
       "      <td>2</td>\n",
       "      <td>1</td>\n",
       "      <td>1</td>\n",
       "      <td>Cumings, Mrs. John Bradley (Florence Briggs Th...</td>\n",
       "      <td>female</td>\n",
       "      <td>38.0</td>\n",
       "      <td>1</td>\n",
       "      <td>0</td>\n",
       "      <td>PC 17599</td>\n",
       "      <td>71.2833</td>\n",
       "      <td>C85</td>\n",
       "      <td>C</td>\n",
       "    </tr>\n",
       "    <tr>\n",
       "      <th>2</th>\n",
       "      <td>3</td>\n",
       "      <td>1</td>\n",
       "      <td>3</td>\n",
       "      <td>Heikkinen, Miss. Laina</td>\n",
       "      <td>female</td>\n",
       "      <td>26.0</td>\n",
       "      <td>0</td>\n",
       "      <td>0</td>\n",
       "      <td>STON/O2. 3101282</td>\n",
       "      <td>7.9250</td>\n",
       "      <td>NaN</td>\n",
       "      <td>S</td>\n",
       "    </tr>\n",
       "    <tr>\n",
       "      <th>3</th>\n",
       "      <td>4</td>\n",
       "      <td>1</td>\n",
       "      <td>1</td>\n",
       "      <td>Futrelle, Mrs. Jacques Heath (Lily May Peel)</td>\n",
       "      <td>female</td>\n",
       "      <td>35.0</td>\n",
       "      <td>1</td>\n",
       "      <td>0</td>\n",
       "      <td>113803</td>\n",
       "      <td>53.1000</td>\n",
       "      <td>C123</td>\n",
       "      <td>S</td>\n",
       "    </tr>\n",
       "    <tr>\n",
       "      <th>4</th>\n",
       "      <td>5</td>\n",
       "      <td>0</td>\n",
       "      <td>3</td>\n",
       "      <td>Allen, Mr. William Henry</td>\n",
       "      <td>male</td>\n",
       "      <td>35.0</td>\n",
       "      <td>0</td>\n",
       "      <td>0</td>\n",
       "      <td>373450</td>\n",
       "      <td>8.0500</td>\n",
       "      <td>NaN</td>\n",
       "      <td>S</td>\n",
       "    </tr>\n",
       "  </tbody>\n",
       "</table>\n",
       "</div>"
      ],
      "text/plain": [
       "   PassengerId  Survived  Pclass  \\\n",
       "0            1         0       3   \n",
       "1            2         1       1   \n",
       "2            3         1       3   \n",
       "3            4         1       1   \n",
       "4            5         0       3   \n",
       "\n",
       "                                                Name     Sex   Age  SibSp  \\\n",
       "0                            Braund, Mr. Owen Harris    male  22.0      1   \n",
       "1  Cumings, Mrs. John Bradley (Florence Briggs Th...  female  38.0      1   \n",
       "2                             Heikkinen, Miss. Laina  female  26.0      0   \n",
       "3       Futrelle, Mrs. Jacques Heath (Lily May Peel)  female  35.0      1   \n",
       "4                           Allen, Mr. William Henry    male  35.0      0   \n",
       "\n",
       "   Parch            Ticket     Fare Cabin Embarked  \n",
       "0      0         A/5 21171   7.2500   NaN        S  \n",
       "1      0          PC 17599  71.2833   C85        C  \n",
       "2      0  STON/O2. 3101282   7.9250   NaN        S  \n",
       "3      0            113803  53.1000  C123        S  \n",
       "4      0            373450   8.0500   NaN        S  "
      ]
     },
     "execution_count": 2,
     "metadata": {},
     "output_type": "execute_result"
    }
   ],
   "source": [
    "df = pd.read_csv('train.csv')\n",
    "df.head()"
   ]
  },
  {
   "cell_type": "code",
   "execution_count": 3,
   "id": "799b2c91-3a25-4364-94d4-9ba71246fdb8",
   "metadata": {},
   "outputs": [
    {
     "data": {
      "text/plain": [
       "(891, 12)"
      ]
     },
     "execution_count": 3,
     "metadata": {},
     "output_type": "execute_result"
    }
   ],
   "source": [
    "df.shape"
   ]
  },
  {
   "cell_type": "code",
   "execution_count": 4,
   "id": "ebd13aa0-b9e4-4eea-b4e6-8dfcf8084f01",
   "metadata": {},
   "outputs": [
    {
     "data": {
      "text/plain": [
       "PassengerId      0\n",
       "Survived         0\n",
       "Pclass           0\n",
       "Name             0\n",
       "Sex              0\n",
       "Age            177\n",
       "SibSp            0\n",
       "Parch            0\n",
       "Ticket           0\n",
       "Fare             0\n",
       "Cabin          687\n",
       "Embarked         2\n",
       "dtype: int64"
      ]
     },
     "execution_count": 4,
     "metadata": {},
     "output_type": "execute_result"
    }
   ],
   "source": [
    "df.isnull().sum()"
   ]
  },
  {
   "cell_type": "code",
   "execution_count": 5,
   "id": "28007e9c-d7a3-40a3-89d1-93ef6ac05e85",
   "metadata": {},
   "outputs": [
    {
     "data": {
      "text/plain": [
       "30"
      ]
     },
     "execution_count": 5,
     "metadata": {},
     "output_type": "execute_result"
    }
   ],
   "source": [
    "mean_age = round(df['Age'].mean())\n",
    "mean_age"
   ]
  },
  {
   "cell_type": "code",
   "execution_count": 6,
   "id": "58acf54a-8327-4e08-ad5f-b507bce4a987",
   "metadata": {},
   "outputs": [
    {
     "name": "stderr",
     "output_type": "stream",
     "text": [
      "C:\\Users\\Desmond\\AppData\\Local\\Temp/ipykernel_12092/390067799.py:4: SettingWithCopyWarning: \n",
      "A value is trying to be set on a copy of a slice from a DataFrame\n",
      "\n",
      "See the caveats in the documentation: https://pandas.pydata.org/pandas-docs/stable/user_guide/indexing.html#returning-a-view-versus-a-copy\n",
      "  df2['Age'][i] = mean_age\n"
     ]
    }
   ],
   "source": [
    "df2 = df.copy()\n",
    "for i in range(len(df2)):\n",
    "    if np.isnan(df2['Age'][i]):\n",
    "        df2['Age'][i] = mean_age"
   ]
  },
  {
   "cell_type": "code",
   "execution_count": 7,
   "id": "20aa5397-8398-4b10-8874-6cafa12e4c64",
   "metadata": {},
   "outputs": [
    {
     "data": {
      "text/plain": [
       "PassengerId      0\n",
       "Survived         0\n",
       "Pclass           0\n",
       "Name             0\n",
       "Sex              0\n",
       "Age              0\n",
       "SibSp            0\n",
       "Parch            0\n",
       "Ticket           0\n",
       "Fare             0\n",
       "Cabin          687\n",
       "Embarked         2\n",
       "dtype: int64"
      ]
     },
     "execution_count": 7,
     "metadata": {},
     "output_type": "execute_result"
    }
   ],
   "source": [
    "df2.isnull().sum()"
   ]
  },
  {
   "cell_type": "code",
   "execution_count": 8,
   "id": "e969fb85-f6d9-4b69-8df0-dc696e22ca98",
   "metadata": {},
   "outputs": [
    {
     "data": {
      "text/html": [
       "<div>\n",
       "<style scoped>\n",
       "    .dataframe tbody tr th:only-of-type {\n",
       "        vertical-align: middle;\n",
       "    }\n",
       "\n",
       "    .dataframe tbody tr th {\n",
       "        vertical-align: top;\n",
       "    }\n",
       "\n",
       "    .dataframe thead th {\n",
       "        text-align: right;\n",
       "    }\n",
       "</style>\n",
       "<table border=\"1\" class=\"dataframe\">\n",
       "  <thead>\n",
       "    <tr style=\"text-align: right;\">\n",
       "      <th></th>\n",
       "      <th>Survived</th>\n",
       "      <th>Pclass</th>\n",
       "      <th>Sex</th>\n",
       "      <th>Age</th>\n",
       "      <th>SibSp</th>\n",
       "      <th>Parch</th>\n",
       "      <th>Fare</th>\n",
       "    </tr>\n",
       "  </thead>\n",
       "  <tbody>\n",
       "    <tr>\n",
       "      <th>0</th>\n",
       "      <td>0</td>\n",
       "      <td>3</td>\n",
       "      <td>male</td>\n",
       "      <td>22.0</td>\n",
       "      <td>1</td>\n",
       "      <td>0</td>\n",
       "      <td>7.2500</td>\n",
       "    </tr>\n",
       "    <tr>\n",
       "      <th>1</th>\n",
       "      <td>1</td>\n",
       "      <td>1</td>\n",
       "      <td>female</td>\n",
       "      <td>38.0</td>\n",
       "      <td>1</td>\n",
       "      <td>0</td>\n",
       "      <td>71.2833</td>\n",
       "    </tr>\n",
       "    <tr>\n",
       "      <th>2</th>\n",
       "      <td>1</td>\n",
       "      <td>3</td>\n",
       "      <td>female</td>\n",
       "      <td>26.0</td>\n",
       "      <td>0</td>\n",
       "      <td>0</td>\n",
       "      <td>7.9250</td>\n",
       "    </tr>\n",
       "    <tr>\n",
       "      <th>3</th>\n",
       "      <td>1</td>\n",
       "      <td>1</td>\n",
       "      <td>female</td>\n",
       "      <td>35.0</td>\n",
       "      <td>1</td>\n",
       "      <td>0</td>\n",
       "      <td>53.1000</td>\n",
       "    </tr>\n",
       "    <tr>\n",
       "      <th>4</th>\n",
       "      <td>0</td>\n",
       "      <td>3</td>\n",
       "      <td>male</td>\n",
       "      <td>35.0</td>\n",
       "      <td>0</td>\n",
       "      <td>0</td>\n",
       "      <td>8.0500</td>\n",
       "    </tr>\n",
       "  </tbody>\n",
       "</table>\n",
       "</div>"
      ],
      "text/plain": [
       "   Survived  Pclass     Sex   Age  SibSp  Parch     Fare\n",
       "0         0       3    male  22.0      1      0   7.2500\n",
       "1         1       1  female  38.0      1      0  71.2833\n",
       "2         1       3  female  26.0      0      0   7.9250\n",
       "3         1       1  female  35.0      1      0  53.1000\n",
       "4         0       3    male  35.0      0      0   8.0500"
      ]
     },
     "execution_count": 8,
     "metadata": {},
     "output_type": "execute_result"
    }
   ],
   "source": [
    "df3 = df2.drop(['PassengerId','Name','Cabin','Embarked','Ticket'],axis=1)\n",
    "df3.head()"
   ]
  },
  {
   "cell_type": "code",
   "execution_count": 9,
   "id": "0f4ba4d7-2edf-422d-8a06-a0f9ba86c5db",
   "metadata": {},
   "outputs": [
    {
     "data": {
      "text/plain": [
       "Survived    0\n",
       "Pclass      0\n",
       "Sex         0\n",
       "Age         0\n",
       "SibSp       0\n",
       "Parch       0\n",
       "Fare        0\n",
       "dtype: int64"
      ]
     },
     "execution_count": 9,
     "metadata": {},
     "output_type": "execute_result"
    }
   ],
   "source": [
    "df3.isnull().sum()"
   ]
  },
  {
   "cell_type": "code",
   "execution_count": 10,
   "id": "3e2311cf-a276-43bf-8445-a927d26ab699",
   "metadata": {},
   "outputs": [
    {
     "data": {
      "text/html": [
       "<div>\n",
       "<style scoped>\n",
       "    .dataframe tbody tr th:only-of-type {\n",
       "        vertical-align: middle;\n",
       "    }\n",
       "\n",
       "    .dataframe tbody tr th {\n",
       "        vertical-align: top;\n",
       "    }\n",
       "\n",
       "    .dataframe thead th {\n",
       "        text-align: right;\n",
       "    }\n",
       "</style>\n",
       "<table border=\"1\" class=\"dataframe\">\n",
       "  <thead>\n",
       "    <tr style=\"text-align: right;\">\n",
       "      <th></th>\n",
       "      <th>Survived</th>\n",
       "      <th>Pclass</th>\n",
       "      <th>Sex</th>\n",
       "      <th>Age</th>\n",
       "      <th>SibSp</th>\n",
       "      <th>Parch</th>\n",
       "      <th>Fare</th>\n",
       "    </tr>\n",
       "  </thead>\n",
       "  <tbody>\n",
       "    <tr>\n",
       "      <th>0</th>\n",
       "      <td>0</td>\n",
       "      <td>0.345679</td>\n",
       "      <td>0</td>\n",
       "      <td>-0.097498</td>\n",
       "      <td>1</td>\n",
       "      <td>-0.063599</td>\n",
       "      <td>-0.048707</td>\n",
       "    </tr>\n",
       "    <tr>\n",
       "      <th>1</th>\n",
       "      <td>1</td>\n",
       "      <td>-0.654321</td>\n",
       "      <td>1</td>\n",
       "      <td>0.103558</td>\n",
       "      <td>1</td>\n",
       "      <td>-0.063599</td>\n",
       "      <td>0.076277</td>\n",
       "    </tr>\n",
       "    <tr>\n",
       "      <th>2</th>\n",
       "      <td>1</td>\n",
       "      <td>0.345679</td>\n",
       "      <td>1</td>\n",
       "      <td>-0.047234</td>\n",
       "      <td>0</td>\n",
       "      <td>-0.063599</td>\n",
       "      <td>-0.047390</td>\n",
       "    </tr>\n",
       "    <tr>\n",
       "      <th>3</th>\n",
       "      <td>1</td>\n",
       "      <td>-0.654321</td>\n",
       "      <td>1</td>\n",
       "      <td>0.065860</td>\n",
       "      <td>1</td>\n",
       "      <td>-0.063599</td>\n",
       "      <td>0.040786</td>\n",
       "    </tr>\n",
       "    <tr>\n",
       "      <th>4</th>\n",
       "      <td>0</td>\n",
       "      <td>0.345679</td>\n",
       "      <td>0</td>\n",
       "      <td>0.065860</td>\n",
       "      <td>0</td>\n",
       "      <td>-0.063599</td>\n",
       "      <td>-0.047146</td>\n",
       "    </tr>\n",
       "  </tbody>\n",
       "</table>\n",
       "</div>"
      ],
      "text/plain": [
       "   Survived    Pclass  Sex       Age  SibSp     Parch      Fare\n",
       "0         0  0.345679    0 -0.097498      1 -0.063599 -0.048707\n",
       "1         1 -0.654321    1  0.103558      1 -0.063599  0.076277\n",
       "2         1  0.345679    1 -0.047234      0 -0.063599 -0.047390\n",
       "3         1 -0.654321    1  0.065860      1 -0.063599  0.040786\n",
       "4         0  0.345679    0  0.065860      0 -0.063599 -0.047146"
      ]
     },
     "execution_count": 10,
     "metadata": {},
     "output_type": "execute_result"
    }
   ],
   "source": [
    "df4 = df3.copy()\n",
    "map_sex = {\n",
    "    'male': 0,\n",
    "    'female': 1,\n",
    "}\n",
    "df4 = df4.replace({'Sex': map_sex})\n",
    "df4['Fare'] = (df4['Fare'] - df4['Fare'].mean())/(df4['Fare'].max() - df4['Fare'].min())\n",
    "df4['Age'] = (df4['Age'] - df4['Age'].mean())/(df4['Age'].max() - df4['Age'].min())\n",
    "df4['Parch'] = (df4['Parch'] - df4['Parch'].mean())/(df4['Parch'].max() - df4['Parch'].min())\n",
    "df4['Pclass'] = (df4['Pclass'] - df4['Pclass'].mean())/(df4['Pclass'].max() - df4['Pclass'].min())\n",
    "df4.head()"
   ]
  },
  {
   "cell_type": "code",
   "execution_count": 11,
   "id": "24112f20-58ba-4b3a-958c-e93c9a41ab91",
   "metadata": {},
   "outputs": [
    {
     "data": {
      "text/plain": [
       "(array([[ 0.34567901,  0.        , -0.09749798,  1.        , -0.06359895,\n",
       "         -0.04870737],\n",
       "        [-0.65432099,  1.        ,  0.10355757,  1.        , -0.06359895,\n",
       "          0.07627731],\n",
       "        [ 0.34567901,  1.        , -0.04723409,  0.        , -0.06359895,\n",
       "         -0.04738986],\n",
       "        [-0.65432099,  1.        ,  0.06585965,  1.        , -0.06359895,\n",
       "          0.04078587],\n",
       "        [ 0.34567901,  0.        ,  0.06585965,  0.        , -0.06359895,\n",
       "         -0.04714587]]),\n",
       " array([[0],\n",
       "        [1],\n",
       "        [1],\n",
       "        [1],\n",
       "        [0]], dtype=int64))"
      ]
     },
     "execution_count": 11,
     "metadata": {},
     "output_type": "execute_result"
    }
   ],
   "source": [
    "X = df4.drop(['Survived'],axis=1).values\n",
    "y = df4['Survived'].values.reshape(-1,1)\n",
    "X[:5], y[:5]"
   ]
  },
  {
   "cell_type": "code",
   "execution_count": 12,
   "id": "ce0bad5a-013f-47c6-ab12-a8be9e3458e2",
   "metadata": {},
   "outputs": [
    {
     "data": {
      "text/plain": [
       "array([[ 1.        ,  0.34567901,  0.        , -0.09749798,  1.        ,\n",
       "        -0.06359895, -0.04870737],\n",
       "       [ 1.        , -0.65432099,  1.        ,  0.10355757,  1.        ,\n",
       "        -0.06359895,  0.07627731],\n",
       "       [ 1.        ,  0.34567901,  1.        , -0.04723409,  0.        ,\n",
       "        -0.06359895, -0.04738986],\n",
       "       [ 1.        , -0.65432099,  1.        ,  0.06585965,  1.        ,\n",
       "        -0.06359895,  0.04078587],\n",
       "       [ 1.        ,  0.34567901,  0.        ,  0.06585965,  0.        ,\n",
       "        -0.06359895, -0.04714587]])"
      ]
     },
     "execution_count": 12,
     "metadata": {},
     "output_type": "execute_result"
    }
   ],
   "source": [
    "X = np.concatenate((np.ones((X.shape[0],1)),X),axis=1)\n",
    "X[:5]"
   ]
  },
  {
   "cell_type": "code",
   "execution_count": 63,
   "id": "949adeb3-75ff-422f-ba71-86408138fe6a",
   "metadata": {},
   "outputs": [],
   "source": [
    "class MyLogisticRegression:\n",
    "    import numpy as np\n",
    "    \n",
    "    def sigmoid(self,z):\n",
    "        return 1/(1 + self.np.exp(-z))\n",
    "    \n",
    "    def tanh(self,z):\n",
    "        return (self.np.exp(z) - self.np.exp(-z))/(self.np.exp(z) + self.np.exp(-z))\n",
    "    \n",
    "    def calculate_loss(self,y_hat,y):\n",
    "        h_scale = (y_hat+1)/2\n",
    "        return -(y*self.np.log(h_scale) + (1-y)*self.np.log(1-h_scale)).mean()\n",
    "    \n",
    "    def calculate_gradient(self,X,y_hat,y):\n",
    "        return X.T.dot(y_hat-y)/y.size\n",
    "    \n",
    "    def predict(self,X,weights):\n",
    "        return self.sigmoid(X.dot(weights))\n",
    "    \n",
    "    def fit(self,X,y,lr=0.0001,n_epochs=100,batch_size=32,gamma=0.9):\n",
    "        weights = self.np.random.rand(X.shape[1],1)\n",
    "        losses = []\n",
    "        accs = []\n",
    "        \n",
    "        m = X.shape[0]\n",
    "        v = self.np.zeros_like(weights)\n",
    "        \n",
    "        for _ in range(n_epochs):\n",
    "            ids = self.np.random.permutation(m)\n",
    "            X_shuffled = X[ids]\n",
    "            y_shuffled = y[ids]\n",
    "            \n",
    "            for i in range(0,m,batch_size):\n",
    "                Xi = X_shuffled[i:i+batch_size]\n",
    "                yi = y_shuffled[i:i+batch_size]\n",
    "                \n",
    "                y_hat = self.predict(Xi,weights - gamma*v)\n",
    "                \n",
    "                loss = self.calculate_loss(y_hat,yi)\n",
    "                \n",
    "                grad = self.calculate_gradient(Xi,y_hat,yi)\n",
    "                \n",
    "                losses.append(loss)\n",
    "                \n",
    "                weights -= (lr*grad + gamma*v)\n",
    "                \n",
    "            y_pred = self.predict(X_shuffled,weights).round()\n",
    "            acc = (y_pred == y_shuffled).mean()\n",
    "            accs.append(acc)\n",
    "        \n",
    "        self.weights = weights\n",
    "        self.losses = losses\n",
    "        self.accs = accs"
   ]
  },
  {
   "cell_type": "code",
   "execution_count": 101,
   "id": "549d7b4f-dc0a-4c18-922b-798a5c9b6ad6",
   "metadata": {},
   "outputs": [
    {
     "data": {
      "text/plain": [
       "0.8051599684624181"
      ]
     },
     "execution_count": 101,
     "metadata": {},
     "output_type": "execute_result"
    },
    {
     "data": {
      "image/png": "[encoded data removed]",
      "text/plain": [
       "<Figure size 432x288 with 1 Axes>"
      ]
     },
     "metadata": {
      "needs_background": "light"
     },
     "output_type": "display_data"
    }
   ],
   "source": [
    "model = MyLogisticRegression()\n",
    "model.fit(X,y,lr=0.000008,batch_size=32,n_epochs=80000)\n",
    "plt.plot(model.losses)\n",
    "model.losses[-1]"
   ]
  },
  {
   "cell_type": "code",
   "execution_count": 102,
   "id": "8f48ff19-1435-4239-97a5-c7b76e87bc29",
   "metadata": {},
   "outputs": [
    {
     "data": {
      "text/plain": [
       "0.8002244668911336"
      ]
     },
     "execution_count": 102,
     "metadata": {},
     "output_type": "execute_result"
    },
    {
     "data": {
      "image/png": "[encoded data removed]",
      "text/plain": [
       "<Figure size 432x288 with 1 Axes>"
      ]
     },
     "metadata": {
      "needs_background": "light"
     },
     "output_type": "display_data"
    }
   ],
   "source": [
    "plt.plot(model.accs)\n",
    "np.max(model.accs)"
   ]
  },
  {
   "cell_type": "code",
   "execution_count": null,
   "id": "00437dd9-aeca-43b2-ab23-aa1e0a8dacc2",
   "metadata": {},
   "outputs": [],
   "source": []
  },
  {
   "cell_type": "code",
   "execution_count": 15,
   "id": "05de5b82-b8ff-455b-b0d8-f769db7cc106",
   "metadata": {},
   "outputs": [
    {
     "data": {
      "text/plain": [
       "PassengerId     0\n",
       "Pclass          0\n",
       "Sex             0\n",
       "Age            86\n",
       "SibSp           0\n",
       "Parch           0\n",
       "Fare            1\n",
       "dtype: int64"
      ]
     },
     "execution_count": 15,
     "metadata": {},
     "output_type": "execute_result"
    }
   ],
   "source": [
    "df_test = pd.read_csv('test.csv')\n",
    "df_test = df_test.drop(['Name','Cabin','Embarked','Ticket'],axis=1)\n",
    "df_test.isnull().sum()"
   ]
  },
  {
   "cell_type": "code",
   "execution_count": 16,
   "id": "2215a49e-1894-4f7c-8a47-6337bf58c437",
   "metadata": {},
   "outputs": [
    {
     "name": "stderr",
     "output_type": "stream",
     "text": [
      "C:\\Users\\Desmond\\AppData\\Local\\Temp/ipykernel_12092/2571279304.py:3: SettingWithCopyWarning: \n",
      "A value is trying to be set on a copy of a slice from a DataFrame\n",
      "\n",
      "See the caveats in the documentation: https://pandas.pydata.org/pandas-docs/stable/user_guide/indexing.html#returning-a-view-versus-a-copy\n",
      "  df_test['Age'][i] = round(df_test['Age'].mean())\n",
      "C:\\Users\\Desmond\\AppData\\Local\\Temp/ipykernel_12092/2571279304.py:5: SettingWithCopyWarning: \n",
      "A value is trying to be set on a copy of a slice from a DataFrame\n",
      "\n",
      "See the caveats in the documentation: https://pandas.pydata.org/pandas-docs/stable/user_guide/indexing.html#returning-a-view-versus-a-copy\n",
      "  df_test['Fare'][i] = round(df_test['Fare'].mean())\n"
     ]
    }
   ],
   "source": [
    "for i in range(len(df_test)):\n",
    "    if np.isnan(df_test['Age'][i]):\n",
    "        df_test['Age'][i] = round(df_test['Age'].mean())\n",
    "    if np.isnan(df_test['Fare'][i]):\n",
    "        df_test['Fare'][i] = round(df_test['Fare'].mean())"
   ]
  },
  {
   "cell_type": "code",
   "execution_count": 17,
   "id": "9d853e3c-2147-4f4e-af1f-e7da9fc02077",
   "metadata": {},
   "outputs": [
    {
     "data": {
      "text/plain": [
       "PassengerId    0\n",
       "Pclass         0\n",
       "Sex            0\n",
       "Age            0\n",
       "SibSp          0\n",
       "Parch          0\n",
       "Fare           0\n",
       "dtype: int64"
      ]
     },
     "execution_count": 17,
     "metadata": {},
     "output_type": "execute_result"
    }
   ],
   "source": [
    "df_test.isnull().sum()"
   ]
  },
  {
   "cell_type": "code",
   "execution_count": 18,
   "id": "2707bd8f-e014-4a70-8576-ac215b6fb7c7",
   "metadata": {},
   "outputs": [],
   "source": [
    "map_sex = {\n",
    "    'male': 0,\n",
    "    'female': 1,\n",
    "}\n",
    "df_test = df_test.replace({'Sex': map_sex})\n",
    "df_test['Fare'] = (df_test['Fare'] - df_test['Fare'].mean())/(df_test['Fare'].max() - df_test['Fare'].min())\n",
    "df_test['Age'] = (df_test['Age'] - df_test['Age'].mean())/(df_test['Age'].max() - df_test['Age'].min())\n",
    "df_test['Parch'] = (df_test['Parch'] - df_test['Parch'].mean())/(df_test['Parch'].max() - df_test['Parch'].min())\n",
    "df_test['Pclass'] = (df_test['Pclass'] - df_test['Pclass'].mean())/(df_test['Pclass'].max() - df_test['Pclass'].min())"
   ]
  },
  {
   "cell_type": "code",
   "execution_count": 19,
   "id": "5d935649-6286-4fe2-b602-5b23146f5688",
   "metadata": {},
   "outputs": [
    {
     "data": {
      "text/plain": [
       "array([[ 0.36722488,  0.        ,  0.0564881 ,  0.        , -0.04359383,\n",
       "        -0.0542598 ],\n",
       "       [ 0.36722488,  1.        ,  0.22133051,  1.        , -0.04359383,\n",
       "        -0.05587829],\n",
       "       [-0.13277512,  0.        ,  0.41914141,  0.        , -0.04359383,\n",
       "        -0.05063264],\n",
       "       [ 0.36722488,  0.        , -0.04241734,  0.        , -0.04359383,\n",
       "        -0.05263331],\n",
       "       [ 0.36722488,  1.        , -0.10835431,  1.        ,  0.06751728,\n",
       "        -0.04555778]])"
      ]
     },
     "execution_count": 19,
     "metadata": {},
     "output_type": "execute_result"
    }
   ],
   "source": [
    "X_test = df_test.drop(['PassengerId'],axis=1).values\n",
    "X_test[:5]"
   ]
  },
  {
   "cell_type": "code",
   "execution_count": 20,
   "id": "69549503-44d2-44d4-bfaa-f26d0581bc69",
   "metadata": {},
   "outputs": [
    {
     "data": {
      "text/plain": [
       "array([[ 1.        ,  0.36722488,  0.        ,  0.0564881 ,  0.        ,\n",
       "        -0.04359383, -0.0542598 ],\n",
       "       [ 1.        ,  0.36722488,  1.        ,  0.22133051,  1.        ,\n",
       "        -0.04359383, -0.05587829],\n",
       "       [ 1.        , -0.13277512,  0.        ,  0.41914141,  0.        ,\n",
       "        -0.04359383, -0.05063264],\n",
       "       [ 1.        ,  0.36722488,  0.        , -0.04241734,  0.        ,\n",
       "        -0.04359383, -0.05263331],\n",
       "       [ 1.        ,  0.36722488,  1.        , -0.10835431,  1.        ,\n",
       "         0.06751728, -0.04555778]])"
      ]
     },
     "execution_count": 20,
     "metadata": {},
     "output_type": "execute_result"
    }
   ],
   "source": [
    "X_test = np.concatenate((np.ones((X_test.shape[0],1)),X_test),axis=1)\n",
    "X_test[:5]"
   ]
  },
  {
   "cell_type": "code",
   "execution_count": 103,
   "id": "6247fe02-3e63-40e5-9433-7c9edfb69966",
   "metadata": {},
   "outputs": [
    {
     "data": {
      "text/plain": [
       "(418,)"
      ]
     },
     "execution_count": 103,
     "metadata": {},
     "output_type": "execute_result"
    }
   ],
   "source": [
    "y_pred = model.predict(X_test,model.weights).round().reshape(418,).astype(int)\n",
    "y_pred.shape"
   ]
  },
  {
   "cell_type": "code",
   "execution_count": 22,
   "id": "c92d3c7c-2e7e-4c61-a894-20bcfe60b281",
   "metadata": {},
   "outputs": [
    {
     "data": {
      "text/plain": [
       "(418,)"
      ]
     },
     "execution_count": 22,
     "metadata": {},
     "output_type": "execute_result"
    }
   ],
   "source": [
    "ids = df_test['PassengerId'].values\n",
    "ids.shape"
   ]
  },
  {
   "cell_type": "code",
   "execution_count": 104,
   "id": "22457953-9999-4caf-981e-93534b77520f",
   "metadata": {},
   "outputs": [
    {
     "data": {
      "text/html": [
       "<div>\n",
       "<style scoped>\n",
       "    .dataframe tbody tr th:only-of-type {\n",
       "        vertical-align: middle;\n",
       "    }\n",
       "\n",
       "    .dataframe tbody tr th {\n",
       "        vertical-align: top;\n",
       "    }\n",
       "\n",
       "    .dataframe thead th {\n",
       "        text-align: right;\n",
       "    }\n",
       "</style>\n",
       "<table border=\"1\" class=\"dataframe\">\n",
       "  <thead>\n",
       "    <tr style=\"text-align: right;\">\n",
       "      <th></th>\n",
       "      <th>PassengerId</th>\n",
       "      <th>Survived</th>\n",
       "    </tr>\n",
       "  </thead>\n",
       "  <tbody>\n",
       "    <tr>\n",
       "      <th>0</th>\n",
       "      <td>892</td>\n",
       "      <td>0</td>\n",
       "    </tr>\n",
       "    <tr>\n",
       "      <th>1</th>\n",
       "      <td>893</td>\n",
       "      <td>1</td>\n",
       "    </tr>\n",
       "    <tr>\n",
       "      <th>2</th>\n",
       "      <td>894</td>\n",
       "      <td>0</td>\n",
       "    </tr>\n",
       "    <tr>\n",
       "      <th>3</th>\n",
       "      <td>895</td>\n",
       "      <td>0</td>\n",
       "    </tr>\n",
       "    <tr>\n",
       "      <th>4</th>\n",
       "      <td>896</td>\n",
       "      <td>1</td>\n",
       "    </tr>\n",
       "    <tr>\n",
       "      <th>...</th>\n",
       "      <td>...</td>\n",
       "      <td>...</td>\n",
       "    </tr>\n",
       "    <tr>\n",
       "      <th>413</th>\n",
       "      <td>1305</td>\n",
       "      <td>0</td>\n",
       "    </tr>\n",
       "    <tr>\n",
       "      <th>414</th>\n",
       "      <td>1306</td>\n",
       "      <td>1</td>\n",
       "    </tr>\n",
       "    <tr>\n",
       "      <th>415</th>\n",
       "      <td>1307</td>\n",
       "      <td>0</td>\n",
       "    </tr>\n",
       "    <tr>\n",
       "      <th>416</th>\n",
       "      <td>1308</td>\n",
       "      <td>0</td>\n",
       "    </tr>\n",
       "    <tr>\n",
       "      <th>417</th>\n",
       "      <td>1309</td>\n",
       "      <td>0</td>\n",
       "    </tr>\n",
       "  </tbody>\n",
       "</table>\n",
       "<p>418 rows × 2 columns</p>\n",
       "</div>"
      ],
      "text/plain": [
       "     PassengerId  Survived\n",
       "0            892         0\n",
       "1            893         1\n",
       "2            894         0\n",
       "3            895         0\n",
       "4            896         1\n",
       "..           ...       ...\n",
       "413         1305         0\n",
       "414         1306         1\n",
       "415         1307         0\n",
       "416         1308         0\n",
       "417         1309         0\n",
       "\n",
       "[418 rows x 2 columns]"
      ]
     },
     "execution_count": 104,
     "metadata": {},
     "output_type": "execute_result"
    }
   ],
   "source": [
    "submission = pd.DataFrame({'PassengerId': ids, 'Survived': y_pred})\n",
    "submission"
   ]
  },
  {
   "cell_type": "code",
   "execution_count": 105,
   "id": "f299caeb-5a6c-408f-9a3a-b1b50a1023eb",
   "metadata": {},
   "outputs": [],
   "source": [
    "submission.to_csv('submission.csv',index=False)"
   ]
  }
 ],
 "metadata": {
  "kernelspec": {
   "display_name": "Python 3 (ipykernel)",
   "language": "python",
   "name": "python3"
  },
  "language_info": {
   "codemirror_mode": {
    "name": "ipython",
    "version": 3
   },
   "file_extension": ".py",
   "mimetype": "text/x-python",
   "name": "python",
   "nbconvert_exporter": "python",
   "pygments_lexer": "ipython3",
   "version": "3.9.7"
  }
 },
 "nbformat": 4,
 "nbformat_minor": 5
}
