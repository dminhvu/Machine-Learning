{
 "cells": [
  {
   "cell_type": "code",
   "execution_count": 24,
   "metadata": {},
   "outputs": [
    {
     "name": "stderr",
     "output_type": "stream",
     "text": [
      "C:\\Users\\Desmond\\AppData\\Local\\Temp/ipykernel_2616/2263167913.py:11: FutureWarning: elementwise comparison failed; returning scalar instead, but in the future will perform elementwise comparison\n",
      "  X = iris.data[iris.data[:,2]!='2']\n"
     ]
    },
    {
     "ename": "ValueError",
     "evalue": "all the input arrays must have same number of dimensions, but the array at index 0 has 2 dimension(s) and the array at index 1 has 3 dimension(s)",
     "output_type": "error",
     "traceback": [
      "\u001b[1;31m---------------------------------------------------------------------------\u001b[0m",
      "\u001b[1;31mValueError\u001b[0m                                Traceback (most recent call last)",
      "\u001b[1;32m~\\AppData\\Local\\Temp/ipykernel_2616/2263167913.py\u001b[0m in \u001b[0;36m<module>\u001b[1;34m\u001b[0m\n\u001b[0;32m     12\u001b[0m \u001b[0my\u001b[0m \u001b[1;33m=\u001b[0m \u001b[0mnp\u001b[0m\u001b[1;33m.\u001b[0m\u001b[0marray\u001b[0m\u001b[1;33m(\u001b[0m\u001b[0miris\u001b[0m\u001b[1;33m.\u001b[0m\u001b[0mtarget\u001b[0m\u001b[1;33m)\u001b[0m\u001b[1;33m\u001b[0m\u001b[1;33m\u001b[0m\u001b[0m\n\u001b[0;32m     13\u001b[0m \u001b[0mintercept\u001b[0m \u001b[1;33m=\u001b[0m \u001b[0mnp\u001b[0m\u001b[1;33m.\u001b[0m\u001b[0mones\u001b[0m\u001b[1;33m(\u001b[0m\u001b[1;33m(\u001b[0m\u001b[0mX\u001b[0m\u001b[1;33m.\u001b[0m\u001b[0mshape\u001b[0m\u001b[1;33m[\u001b[0m\u001b[1;36m0\u001b[0m\u001b[1;33m]\u001b[0m\u001b[1;33m,\u001b[0m \u001b[1;36m1\u001b[0m\u001b[1;33m)\u001b[0m\u001b[1;33m)\u001b[0m\u001b[1;33m\u001b[0m\u001b[1;33m\u001b[0m\u001b[0m\n\u001b[1;32m---> 14\u001b[1;33m \u001b[0mX\u001b[0m \u001b[1;33m=\u001b[0m \u001b[0mnp\u001b[0m\u001b[1;33m.\u001b[0m\u001b[0mconcatenate\u001b[0m\u001b[1;33m(\u001b[0m\u001b[1;33m(\u001b[0m\u001b[0mintercept\u001b[0m\u001b[1;33m,\u001b[0m \u001b[0mX\u001b[0m\u001b[1;33m)\u001b[0m\u001b[1;33m,\u001b[0m \u001b[0maxis\u001b[0m\u001b[1;33m=\u001b[0m\u001b[1;36m1\u001b[0m\u001b[1;33m)\u001b[0m\u001b[1;33m\u001b[0m\u001b[1;33m\u001b[0m\u001b[0m\n\u001b[0m\u001b[0;32m     15\u001b[0m \u001b[1;33m\u001b[0m\u001b[0m\n\u001b[0;32m     16\u001b[0m \u001b[1;31m# shuffle\u001b[0m\u001b[1;33m\u001b[0m\u001b[1;33m\u001b[0m\u001b[0m\n",
      "\u001b[1;32m<__array_function__ internals>\u001b[0m in \u001b[0;36mconcatenate\u001b[1;34m(*args, **kwargs)\u001b[0m\n",
      "\u001b[1;31mValueError\u001b[0m: all the input arrays must have same number of dimensions, but the array at index 0 has 2 dimension(s) and the array at index 1 has 3 dimension(s)"
     ]
    }
   ],
   "source": [
    "import numpy as np\n",
    "import matplotlib.pyplot as plt\n",
    "from numpy import log, dot, e\n",
    "from numpy.random import rand\n",
    "from sklearn import datasets\n",
    "\n",
    "iris = np.genfromtxt('iris_full.csv', dtype=None, delimiter=',', skip_header=1) \n",
    "X = iris[:, :4]\n",
    "y = iris[:, 4]\n",
    "intercept = np.ones((X.shape[0], 1))\n",
    "X = np.concatenate((intercept, X), axis=1)\n",
    "\n",
    "# shuffle\n",
    "inds = np.arange(X.shape[0])\n",
    "np.random.shuffle(inds)\n",
    "\n",
    "X = X[inds]\n",
    "y = y[inds]\n",
    "\n",
    "print(X.shape)\n",
    "print(y.shape)"
   ]
  },
  {
   "cell_type": "code",
   "execution_count": 22,
   "metadata": {},
   "outputs": [
    {
     "data": {
      "text/plain": [
       "(array([[1. , 5.1, 3.5, 1.4, 0.2],\n",
       "        [1. , 4.9, 3. , 1.4, 0.2],\n",
       "        [1. , 4.7, 3.2, 1.3, 0.2],\n",
       "        [1. , 4.6, 3.1, 1.5, 0.2],\n",
       "        [1. , 5. , 3.6, 1.4, 0.2]]),\n",
       " array([[5.1, 3.5, 1.4, 0.2],\n",
       "        [4.9, 3. , 1.4, 0.2],\n",
       "        [4.7, 3.2, 1.3, 0.2],\n",
       "        [4.6, 3.1, 1.5, 0.2],\n",
       "        [5. , 3.6, 1.4, 0.2]]))"
      ]
     },
     "execution_count": 22,
     "metadata": {},
     "output_type": "execute_result"
    }
   ],
   "source": [
    "X[:5], datasets.load_iris().data[:5]"
   ]
  },
  {
   "cell_type": "code",
   "execution_count": 5,
   "metadata": {},
   "outputs": [],
   "source": [
    "class MyLogisticRegression:\n",
    "    \n",
    "    def sigmoid(self, z): return 1 / (1 + e**(-z))\n",
    "    \n",
    "    def cost_function(self, X, y, weights):                 \n",
    "        z = dot(X, weights)\n",
    "        predict_1 = y * log(self.sigmoid(z))\n",
    "        predict_0 = (1 - y) * log(1 - self.sigmoid(z))\n",
    "        return -sum(predict_1 + predict_0) / len(X)\n",
    "    \n",
    "    def predict(self, X):        \n",
    "        # Predicting with sigmoid function\n",
    "        z = dot(X, self.weights)\n",
    "        # Returning binary result\n",
    "        return [1 if i > 0.5 else 0 for i in self.sigmoid(z)]\n",
    "    \n",
    "    def fit(self, X, y, epochs=25, lr=0.05):        \n",
    "        loss = []\n",
    "        accs = []\n",
    "        weights = rand(X.shape[1])\n",
    "        N = len(X)\n",
    "                 \n",
    "        for _ in range(epochs):        \n",
    "            # Gradient Descent\n",
    "            y_hat = self.sigmoid(dot(X, weights))\n",
    "            weights -= lr * dot(X.T,  y_hat - y) / N            \n",
    "            # Saving Progress\n",
    "            loss.append(self.cost_function(X, y, weights))\n",
    "            y_pred = self.sigmoid(dot(X, weights)).round()\n",
    "            acc = (y_pred == y).mean()\n",
    "            accs.append(acc)\n",
    "            \n",
    "        self.weights = weights\n",
    "        self.loss = loss\n",
    "        self.accs = accs"
   ]
  },
  {
   "cell_type": "code",
   "execution_count": 17,
   "metadata": {},
   "outputs": [
    {
     "data": {
      "text/plain": [
       "[<matplotlib.lines.Line2D at 0x1dea84a6bb0>]"
      ]
     },
     "execution_count": 17,
     "metadata": {},
     "output_type": "execute_result"
    },
    {
     "data": {
      "image/png": "[encoded data removed]",
      "text/plain": [
       "<Figure size 432x288 with 1 Axes>"
      ]
     },
     "metadata": {
      "needs_background": "light"
     },
     "output_type": "display_data"
    }
   ],
   "source": [
    "model = MyLogisticRegression()\n",
    "\n",
    "lr = 0.05\n",
    "epochs = 10\n",
    "model.fit(X,y,epochs=epochs)\n",
    "plt.plot(model.loss)"
   ]
  },
  {
   "cell_type": "code",
   "execution_count": 12,
   "metadata": {},
   "outputs": [
    {
     "data": {
      "text/plain": [
       "[<matplotlib.lines.Line2D at 0x1dea83df460>]"
      ]
     },
     "execution_count": 12,
     "metadata": {},
     "output_type": "execute_result"
    },
    {
     "data": {
      "image/png": "[encoded data removed]",
      "text/plain": [
       "<Figure size 432x288 with 1 Axes>"
      ]
     },
     "metadata": {
      "needs_background": "light"
     },
     "output_type": "display_data"
    }
   ],
   "source": [
    "plt.plot(model.accs)"
   ]
  },
  {
   "cell_type": "code",
   "execution_count": 161,
   "metadata": {},
   "outputs": [],
   "source": [
    "def sigmoid_function(z):\n",
    "    return 1 / (1 + np.exp(-z))\n",
    "\n",
    "def loss_function(h, y):\n",
    "    return (-y*np.log(h) - (1-y)*np.log(1-h)).mean()\n",
    "\n",
    "def predict(X, theta):    \n",
    "    y_hat = sigmoid_function(np.dot(X, theta))\n",
    "    return y_hat\n",
    "\n",
    "def compute_gradient(X, y_hat, y):\n",
    "    return np.dot(X.T, (y_hat - y)) / y.size"
   ]
  },
  {
   "cell_type": "code",
   "execution_count": null,
   "metadata": {},
   "outputs": [],
   "source": []
  },
  {
   "cell_type": "code",
   "execution_count": 162,
   "metadata": {},
   "outputs": [],
   "source": [
    "# training\n",
    "lr=0.01\n",
    "num_iter=100\n",
    "\n",
    "theta = np.array([0.1, 0.5, 0.1, 0.5, -0.1])\n",
    "losses = []\n",
    "accs   = []\n",
    "\n",
    "for i in range(num_iter):\n",
    "    # predict z\n",
    "    y_hat = predict(X, theta)\n",
    "    \n",
    "    # compute loss\n",
    "    loss = loss_function(y_hat, y)\n",
    "\n",
    "    # compute mean of gradient\n",
    "    gradient = compute_gradient(X, y_hat, y)\n",
    "    \n",
    "    # update\n",
    "    theta -= lr*gradient  \n",
    "   \n",
    "    \n",
    "    \n",
    "    \n",
    "    # ==========for debug\n",
    "    # loss\n",
    "    losses.append(loss)\n",
    "\n",
    "    # accuracy for training\n",
    "    preds = predict(X, theta).round()\n",
    "    acc = (preds == y).mean()\n",
    "    accs.append(acc) "
   ]
  },
  {
   "cell_type": "code",
   "execution_count": 303,
   "metadata": {},
   "outputs": [
    {
     "data": {
      "image/png": "[encoded data removed]",
      "text/plain": [
       "<Figure size 432x288 with 1 Axes>"
      ]
     },
     "metadata": {
      "needs_background": "light"
     },
     "output_type": "display_data"
    }
   ],
   "source": [
    "# show figures\n",
    "plt.plot(losses)\n",
    "plt.show()"
   ]
  },
  {
   "cell_type": "code",
   "execution_count": null,
   "metadata": {},
   "outputs": [],
   "source": []
  },
  {
   "cell_type": "code",
   "execution_count": 164,
   "metadata": {},
   "outputs": [
    {
     "data": {
      "image/png": "[encoded data removed]",
      "text/plain": [
       "<Figure size 432x288 with 1 Axes>"
      ]
     },
     "metadata": {
      "needs_background": "light"
     },
     "output_type": "display_data"
    }
   ],
   "source": [
    "plt.plot(accs)\n",
    "plt.show()"
   ]
  },
  {
   "cell_type": "code",
   "execution_count": null,
   "metadata": {},
   "outputs": [],
   "source": []
  },
  {
   "cell_type": "code",
   "execution_count": null,
   "metadata": {},
   "outputs": [],
   "source": [
    "preds = predict(X, theta).round()\n",
    "print(preds)\n",
    "print(y)"
   ]
  },
  {
   "cell_type": "code",
   "execution_count": null,
   "metadata": {},
   "outputs": [],
   "source": []
  },
  {
   "cell_type": "code",
   "execution_count": 287,
   "metadata": {},
   "outputs": [],
   "source": []
  }
 ],
 "metadata": {
  "kernelspec": {
   "display_name": "Python 3 (ipykernel)",
   "language": "python",
   "name": "python3"
  },
  "language_info": {
   "codemirror_mode": {
    "name": "ipython",
    "version": 3
   },
   "file_extension": ".py",
   "mimetype": "text/x-python",
   "name": "python",
   "nbconvert_exporter": "python",
   "pygments_lexer": "ipython3",
   "version": "3.9.7"
  }
 },
 "nbformat": 4,
 "nbformat_minor": 4
}
