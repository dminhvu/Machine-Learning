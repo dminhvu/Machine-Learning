{
 "cells": [
  {
   "cell_type": "code",
   "execution_count": 1,
   "id": "aggregate-lafayette",
   "metadata": {},
   "outputs": [],
   "source": [
    "import numpy as np"
   ]
  },
  {
   "cell_type": "code",
   "execution_count": 2,
   "id": "d626622b",
   "metadata": {},
   "outputs": [],
   "source": [
    "def fun(*args):\n",
    "    for x in args:\n",
    "        print(x)"
   ]
  },
  {
   "cell_type": "code",
   "execution_count": 3,
   "id": "33d3ed48",
   "metadata": {},
   "outputs": [
    {
     "name": "stdout",
     "output_type": "stream",
     "text": [
      "a\n",
      "b\n",
      "c\n"
     ]
    }
   ],
   "source": [
    "fun(\"a\",\"b\",\"c\")"
   ]
  },
  {
   "cell_type": "code",
   "execution_count": 10,
   "id": "ba665094",
   "metadata": {},
   "outputs": [
    {
     "name": "stdout",
     "output_type": "stream",
     "text": [
      "a a\n",
      "b b\n",
      "bomay c\n"
     ]
    }
   ],
   "source": [
    "def fun2(**kwargs):\n",
    "    for x in kwargs.items():\n",
    "        print(x[0] + \" \" + x[1])\n",
    "l = fun2(a=\"a\",b=\"b\",bomay=\"c\")"
   ]
  },
  {
   "cell_type": "code",
   "execution_count": 37,
   "id": "0241277e",
   "metadata": {},
   "outputs": [
    {
     "data": {
      "text/plain": [
       "(array([[ True],\n",
       "        [False],\n",
       "        [False],\n",
       "        [False],\n",
       "        [ True]]),\n",
       " array([[6.],\n",
       "        [0.],\n",
       "        [0.],\n",
       "        [0.],\n",
       "        [6.]]))"
      ]
     },
     "execution_count": 37,
     "metadata": {},
     "output_type": "execute_result"
    }
   ],
   "source": [
    "keep_prob = 0.5\n",
    "a = np.array([3, 2, 1, 2, 3]).reshape(-1,1)\n",
    "d = np.random.rand(a.shape[0],a.shape[1]) < keep_prob\n",
    "a = np.multiply(a, d)\n",
    "a = a / keep_prob\n",
    "d, a"
   ]
  },
  {
   "cell_type": "code",
   "execution_count": null,
   "id": "b41a7cb3",
   "metadata": {},
   "outputs": [],
   "source": []
  }
 ],
 "metadata": {
  "kernelspec": {
   "display_name": "Python 3",
   "language": "python",
   "name": "python3"
  },
  "language_info": {
   "codemirror_mode": {
    "name": "ipython",
    "version": 3
   },
   "file_extension": ".py",
   "mimetype": "text/x-python",
   "name": "python",
   "nbconvert_exporter": "python",
   "pygments_lexer": "ipython3",
   "version": "3.9.7"
  }
 },
 "nbformat": 4,
 "nbformat_minor": 5
}
