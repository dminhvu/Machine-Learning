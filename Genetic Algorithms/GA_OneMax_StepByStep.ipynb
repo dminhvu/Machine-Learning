{
 "cells": [
  {
   "cell_type": "code",
   "execution_count": 1,
   "id": "935405bd",
   "metadata": {},
   "outputs": [
    {
     "name": "stdout",
     "output_type": "stream",
     "text": [
      "0\n",
      "0\n",
      "1\n",
      "0\n",
      "0\n",
      "1\n",
      "0\n",
      "1\n",
      "0\n",
      "0\n"
     ]
    }
   ],
   "source": [
    "# generate random numbers in {0,1}\n",
    "\n",
    "import random\n",
    "\n",
    "for _ in range(10):\n",
    "    print(random.randint(0, 1))"
   ]
  },
  {
   "cell_type": "code",
   "execution_count": null,
   "id": "313894f3",
   "metadata": {},
   "outputs": [],
   "source": []
  },
  {
   "cell_type": "code",
   "execution_count": 2,
   "id": "879451a5",
   "metadata": {},
   "outputs": [
    {
     "name": "stdout",
     "output_type": "stream",
     "text": [
      "0\n",
      "0\n",
      "0\n",
      "1\n",
      "0\n",
      "0\n",
      "1\n",
      "0\n",
      "0\n",
      "1\n"
     ]
    }
   ],
   "source": [
    "# generate random numbers in {0,1}\n",
    "import random\n",
    "\n",
    "# uniform distribution\n",
    "def generate_random_value():\n",
    "    return random.randint(0, 1)\n",
    "\n",
    "for _ in range(10):\n",
    "    print(generate_random_value())"
   ]
  },
  {
   "cell_type": "code",
   "execution_count": null,
   "id": "dc716efb",
   "metadata": {},
   "outputs": [],
   "source": []
  },
  {
   "cell_type": "code",
   "execution_count": 3,
   "id": "5131585e",
   "metadata": {},
   "outputs": [
    {
     "name": "stdout",
     "output_type": "stream",
     "text": [
      "[0, 0, 0, 1, 0, 0, 0, 1, 0, 0]\n"
     ]
    }
   ],
   "source": [
    "# create chromosome\n",
    "\n",
    "import random\n",
    "\n",
    "# uniform distribution\n",
    "def generate_random_value():\n",
    "    return random.randint(0, 1)\n",
    "\n",
    "# n: size of chromosome\n",
    "def create_chromosome(n=10):\n",
    "    return [generate_random_value() for _ in range(n)]\n",
    "\n",
    "individual = create_chromosome()\n",
    "print(individual)"
   ]
  },
  {
   "cell_type": "code",
   "execution_count": null,
   "id": "ec413c08",
   "metadata": {},
   "outputs": [],
   "source": []
  },
  {
   "cell_type": "code",
   "execution_count": 4,
   "id": "5ade3eb3",
   "metadata": {},
   "outputs": [
    {
     "name": "stdout",
     "output_type": "stream",
     "text": [
      "[0, 0, 1, 1, 1, 0, 0, 1, 0, 1]\n",
      "[0, 1, 0, 1, 0, 1, 0, 0, 1, 0]\n",
      "[0, 0, 1, 0, 0, 1, 0, 1, 1, 0]\n",
      "[0, 0, 1, 1, 0, 1, 1, 1, 0, 0]\n",
      "[0, 1, 0, 0, 0, 1, 1, 0, 0, 1]\n",
      "[0, 1, 0, 1, 0, 1, 0, 1, 0, 1]\n",
      "[0, 1, 1, 0, 0, 0, 0, 0, 1, 0]\n",
      "[0, 0, 1, 0, 1, 0, 0, 0, 1, 0]\n"
     ]
    }
   ],
   "source": [
    "# create a population\n",
    "\n",
    "# m: size of population\n",
    "def create_population(m=8):\n",
    "    return [create_chromosome() for _ in range(m)]\n",
    "\n",
    "# print population\n",
    "def print_population(population, m=8):\n",
    "    for i in range(m):\n",
    "        print(population[i])\n",
    "        \n",
    "population = create_population()\n",
    "print_population(population)"
   ]
  },
  {
   "cell_type": "code",
   "execution_count": null,
   "id": "8a33c96e",
   "metadata": {},
   "outputs": [],
   "source": []
  },
  {
   "cell_type": "code",
   "execution_count": 5,
   "id": "3febe646",
   "metadata": {},
   "outputs": [
    {
     "name": "stdout",
     "output_type": "stream",
     "text": [
      "[0, 0, 1, 1, 1, 0, 0, 1, 0, 1] 5\n",
      "[0, 1, 0, 1, 0, 1, 0, 0, 1, 0] 4\n",
      "[0, 0, 1, 0, 0, 1, 0, 1, 1, 0] 4\n",
      "[0, 0, 1, 1, 0, 1, 1, 1, 0, 0] 5\n",
      "[0, 1, 0, 0, 0, 1, 1, 0, 0, 1] 4\n",
      "[0, 1, 0, 1, 0, 1, 0, 1, 0, 1] 5\n",
      "[0, 1, 1, 0, 0, 0, 0, 0, 1, 0] 3\n",
      "[0, 0, 1, 0, 1, 0, 0, 0, 1, 0] 3\n"
     ]
    }
   ],
   "source": [
    "# Evaluate function: User-defined function\n",
    "\n",
    "def evaluate(individual):\n",
    "    return sum(individual)\n",
    "\n",
    "m = 8\n",
    "for i in range(m):\n",
    "    print(population[i], evaluate(population[i]))"
   ]
  },
  {
   "cell_type": "code",
   "execution_count": null,
   "id": "8000fd11",
   "metadata": {},
   "outputs": [],
   "source": []
  },
  {
   "cell_type": "code",
   "execution_count": 6,
   "id": "87f8a295",
   "metadata": {},
   "outputs": [
    {
     "name": "stdout",
     "output_type": "stream",
     "text": [
      "[2, 3, 5, 6, 9]\n"
     ]
    }
   ],
   "source": [
    "# sorting\n",
    "\n",
    "a_list = [2, 5, 6, 3, 9]\n",
    "a_list = sorted(a_list)\n",
    "print(a_list)"
   ]
  },
  {
   "cell_type": "code",
   "execution_count": 7,
   "id": "158748c7",
   "metadata": {},
   "outputs": [
    {
     "name": "stdout",
     "output_type": "stream",
     "text": [
      "[[1, 9], [2, 6], [5, 5], [7, 4], [9, 8]]\n"
     ]
    }
   ],
   "source": [
    "a_list = [[2, 6],\n",
    "          [1, 9],\n",
    "          [7, 4],\n",
    "          [9, 8],\n",
    "          [5, 5]]\n",
    "a_list = sorted(a_list)\n",
    "print(a_list)"
   ]
  },
  {
   "cell_type": "code",
   "execution_count": 8,
   "id": "8500f7d3",
   "metadata": {},
   "outputs": [
    {
     "name": "stdout",
     "output_type": "stream",
     "text": [
      "[9, 6, 5, 3, 2]\n"
     ]
    }
   ],
   "source": [
    "def indicator(list_element):\n",
    "    return -list_element\n",
    "\n",
    "a_list = [2, 5, 6, 3, 9]\n",
    "a_list = sorted(a_list, key=indicator)\n",
    "print(a_list)"
   ]
  },
  {
   "cell_type": "code",
   "execution_count": 9,
   "id": "5724bbd2",
   "metadata": {},
   "outputs": [
    {
     "name": "stdout",
     "output_type": "stream",
     "text": [
      "[[2, 6], [1, 9], [5, 5], [7, 4], [9, 8]]\n"
     ]
    }
   ],
   "source": [
    "def indicator(list_element):\n",
    "    return sum(list_element)\n",
    "\n",
    "a_list = [[2, 6],\n",
    "          [1, 9],\n",
    "          [7, 4],\n",
    "          [9, 8],\n",
    "          [5, 5]]\n",
    "a_list = sorted(a_list, key=indicator)\n",
    "print(a_list)"
   ]
  },
  {
   "cell_type": "code",
   "execution_count": null,
   "id": "7bd5de87",
   "metadata": {},
   "outputs": [],
   "source": []
  },
  {
   "cell_type": "code",
   "execution_count": 10,
   "id": "fc149f4e",
   "metadata": {},
   "outputs": [
    {
     "name": "stdout",
     "output_type": "stream",
     "text": [
      "[0, 1, 1, 0, 0, 0, 0, 0, 1, 0] 3\n",
      "[0, 0, 1, 0, 1, 0, 0, 0, 1, 0] 3\n",
      "[0, 1, 0, 1, 0, 1, 0, 0, 1, 0] 4\n",
      "[0, 0, 1, 0, 0, 1, 0, 1, 1, 0] 4\n",
      "[0, 1, 0, 0, 0, 1, 1, 0, 0, 1] 4\n",
      "[0, 0, 1, 1, 1, 0, 0, 1, 0, 1] 5\n",
      "[0, 0, 1, 1, 0, 1, 1, 1, 0, 0] 5\n",
      "[0, 1, 0, 1, 0, 1, 0, 1, 0, 1] 5\n"
     ]
    }
   ],
   "source": [
    "# sort population\n",
    "population_sorted = sorted(population, key=evaluate)\n",
    "\n",
    "# print population\n",
    "for i in range(m):\n",
    "    print(population_sorted[i], evaluate(population_sorted[i]))"
   ]
  },
  {
   "cell_type": "code",
   "execution_count": null,
   "id": "bbed5bc1",
   "metadata": {},
   "outputs": [],
   "source": []
  },
  {
   "cell_type": "code",
   "execution_count": 11,
   "id": "0fedac69",
   "metadata": {},
   "outputs": [
    {
     "name": "stdout",
     "output_type": "stream",
     "text": [
      "6 3\n"
     ]
    }
   ],
   "source": [
    "# selection: get 2 different indices; index in [0,7]\n",
    "\n",
    "def generate_two_indices():\n",
    "    index1 = random.randint(0,7)\n",
    "    index2 = random.randint(0,7)\n",
    "    \n",
    "    # generate until index1!=index2\n",
    "    while True:\n",
    "        if index1==index2:\n",
    "            index2 = random.randint(0,7)\n",
    "        else:\n",
    "            break\n",
    "            \n",
    "    return index1, index2\n",
    "\n",
    "# test\n",
    "index1, index2 = generate_two_indices()\n",
    "print(index1, index2)"
   ]
  },
  {
   "cell_type": "code",
   "execution_count": 12,
   "id": "40d1b4b6",
   "metadata": {},
   "outputs": [
    {
     "name": "stdout",
     "output_type": "stream",
     "text": [
      "7 5\n"
     ]
    }
   ],
   "source": [
    "# selection: get 2 different indices; index in [0,7]\n",
    "\n",
    "def generate_two_indices():\n",
    "    index1 = random.randint(0,7)\n",
    "    index2 = random.randint(0,7)\n",
    "    \n",
    "    # generate until index1!=index2\n",
    "    while index1 == index2:\n",
    "        index2 = random.randint(0,7)\n",
    "            \n",
    "    return index1, index2\n",
    "\n",
    "# test\n",
    "index1, index2 = generate_two_indices()\n",
    "print(index1, index2)"
   ]
  },
  {
   "cell_type": "code",
   "execution_count": null,
   "id": "4e22cea9",
   "metadata": {},
   "outputs": [],
   "source": []
  },
  {
   "cell_type": "code",
   "execution_count": 13,
   "id": "397c2e4d",
   "metadata": {},
   "outputs": [
    {
     "name": "stdout",
     "output_type": "stream",
     "text": [
      "[0, 1, 0, 0, 0, 1, 1, 0, 0, 1] 4\n"
     ]
    }
   ],
   "source": [
    "# selection a better chromosome\n",
    "\n",
    "def select_individual():\n",
    "    index1, index2 = generate_two_indices()\n",
    "    if index1 > index2:\n",
    "        individual = population_sorted[index1]\n",
    "    else:\n",
    "        individual = population_sorted[index2]\n",
    "        \n",
    "    return individual\n",
    "\n",
    "# test\n",
    "individual = select_individual()\n",
    "print(individual, evaluate(individual))"
   ]
  },
  {
   "cell_type": "code",
   "execution_count": null,
   "id": "01f7a3b5",
   "metadata": {},
   "outputs": [],
   "source": []
  },
  {
   "cell_type": "code",
   "execution_count": 14,
   "id": "0a007e67",
   "metadata": {},
   "outputs": [
    {
     "name": "stdout",
     "output_type": "stream",
     "text": [
      "before crossover\n",
      "[0, 0, 1, 0, 0, 1, 0, 1, 1, 0]\n",
      "[0, 1, 0, 0, 0, 1, 1, 0, 0, 1]\n",
      "after crossover\n",
      "[0, 0, 0, 0, 0, 1, 1, 0, 1, 1]\n",
      "[0, 1, 1, 0, 0, 1, 0, 1, 0, 0]\n"
     ]
    }
   ],
   "source": [
    "# crossover\n",
    "individual1 = population_sorted[3]\n",
    "individual2 = population_sorted[4]\n",
    "crossover_rate = 0.8\n",
    "n = 10\n",
    "\n",
    "def crossover(individual1, individual2, crossover_rate = 0.8):\n",
    "    individual1_new = individual1.copy()\n",
    "    individual2_new = individual2.copy()\n",
    "\n",
    "    for i in range(n):    \n",
    "        if random.random() < crossover_rate:\n",
    "            individual1_new[i] = individual2[i]\n",
    "            individual2_new[i] = individual1[i]\n",
    "            \n",
    "    return individual1_new, individual2_new\n",
    "        \n",
    "print('before crossover')\n",
    "print(individual1)\n",
    "print(individual2)\n",
    "\n",
    "print('after crossover')\n",
    "individual1_new, individual2_new = crossover(individual1, individual2)\n",
    "print(individual1_new)\n",
    "print(individual2_new)"
   ]
  },
  {
   "cell_type": "code",
   "execution_count": null,
   "id": "874627eb",
   "metadata": {},
   "outputs": [],
   "source": []
  },
  {
   "cell_type": "code",
   "execution_count": 18,
   "id": "2d2dbc9a",
   "metadata": {},
   "outputs": [
    {
     "name": "stdout",
     "output_type": "stream",
     "text": [
      "0\n",
      "1\n",
      "3\n",
      "[0, 0, 1, 0, 0, 1, 0, 1, 1, 0]\n",
      "[1, 0, 1, 0, 0, 1, 0, 1, 1, 0]\n"
     ]
    }
   ],
   "source": [
    "# mutate\n",
    "\n",
    "def mutate(individual, mutation_rate=0.1):\n",
    "    individual_mut = individual.copy()\n",
    "    for i in range(n):    \n",
    "        if random.random() < mutation_rate:\n",
    "            print(i)\n",
    "            individual_mut[i] = generate_random_value()\n",
    "            \n",
    "    return individual_mut\n",
    "\n",
    "individual = population_sorted[3]\n",
    "individual_mut = mutate(individual)\n",
    "print(individual)\n",
    "print(individual_mut)"
   ]
  },
  {
   "cell_type": "code",
   "execution_count": null,
   "id": "f514a925",
   "metadata": {},
   "outputs": [],
   "source": []
  },
  {
   "cell_type": "code",
   "execution_count": null,
   "id": "9bc08d51",
   "metadata": {},
   "outputs": [],
   "source": []
  },
  {
   "cell_type": "code",
   "execution_count": null,
   "id": "6d1bbaea",
   "metadata": {},
   "outputs": [],
   "source": []
  },
  {
   "cell_type": "code",
   "execution_count": null,
   "id": "e2e41aeb",
   "metadata": {},
   "outputs": [],
   "source": []
  },
  {
   "cell_type": "code",
   "execution_count": 19,
   "id": "ab00b858",
   "metadata": {},
   "outputs": [
    {
     "name": "stdout",
     "output_type": "stream",
     "text": [
      "BEST: 22\n",
      "BEST: 22\n",
      "BEST: 22\n",
      "BEST: 24\n",
      "BEST: 25\n",
      "BEST: 27\n",
      "BEST: 27\n",
      "BEST: 27\n",
      "BEST: 28\n",
      "BEST: 28\n",
      "BEST: 29\n",
      "BEST: 29\n",
      "BEST: 29\n",
      "BEST: 29\n",
      "BEST: 30\n",
      "BEST: 30\n",
      "BEST: 30\n",
      "BEST: 30\n",
      "BEST: 30\n",
      "BEST: 30\n",
      "BEST: 30\n",
      "BEST: 30\n",
      "BEST: 30\n",
      "BEST: 30\n",
      "BEST: 30\n",
      "BEST: 30\n",
      "BEST: 30\n",
      "BEST: 30\n",
      "BEST: 30\n",
      "BEST: 30\n",
      "BEST: 30\n",
      "BEST: 30\n",
      "BEST: 30\n",
      "BEST: 30\n",
      "BEST: 30\n",
      "BEST: 30\n",
      "BEST: 30\n",
      "BEST: 30\n",
      "BEST: 30\n",
      "BEST: 30\n"
     ]
    }
   ],
   "source": [
    "# Chương trình cài đặt với mục đích dễ hiểu\n",
    "# Nhiều chỗ có thể cải tiến về mặt computation và memory\n",
    "\n",
    "\n",
    "\n",
    "\n",
    "\n",
    "import random\n",
    "\n",
    "n = 30                 # size of individual (chromosome)\n",
    "m = 100                # size of population\n",
    "\n",
    "# generate a feasible value\n",
    "def generate_random_value():\n",
    "    return random.randint(0, 1)\n",
    "\n",
    "def create_individual():\n",
    "    return [generate_random_value() for _ in range(n)]\n",
    "\n",
    "# evaluate an individual\n",
    "def compute_fitness(individual):\n",
    "    return sum(individual)\n",
    "\n",
    "# crossover\n",
    "def crossover(individual1, individual2, crossover_rate=0.9):\n",
    "    individual1_new = individual1.copy()\n",
    "    individual2_new = individual2.copy()\n",
    "    \n",
    "    for i in range(n):\n",
    "        if random.random() < crossover_rate:\n",
    "            individual1_new[i] = individual2[i]\n",
    "            individual2_new[i] = individual1[i]            \n",
    "    \n",
    "    return individual1_new, individual2_new\n",
    "\n",
    "# mutatation\n",
    "def mutate(individual, mutation_rate=0.05):\n",
    "    individual_m = individual.copy()\n",
    "    \n",
    "    for i in range(n):\n",
    "        if random.random() < mutation_rate:\n",
    "            individual_m[i] = generate_random_value()\n",
    "        \n",
    "    return individual_m\n",
    "\n",
    "# selection; input population is sorted according to fitnesses\n",
    "def selection(sorted_old_population):    \n",
    "    index1 = random.randint(0, m-1)\n",
    "    index2 = random.randint(0, m-1) \n",
    "    \n",
    "    # check until index2 != index1\n",
    "    while index2 == index1:\n",
    "        index2 = random.randint(0, m-1) \n",
    "            \n",
    "    individual_s = sorted_old_population[index1]\n",
    "    if index2 > index1:\n",
    "        individual_s = sorted_old_population[index2]\n",
    "    \n",
    "    return individual_s \n",
    "\n",
    "\n",
    "##### algorithm\n",
    "# step 1: create initial population\n",
    "population = [create_individual() for _ in range(m)]\n",
    "\n",
    "#==== loops\n",
    "n_generations = 40     # number of generations\n",
    "elitism = 2\n",
    "for i in range(n_generations):\n",
    "    # step 2: sort population\n",
    "    sorted_population = sorted(population, key=compute_fitness)\n",
    "        \n",
    "    # for debug\n",
    "    print(\"BEST:\", compute_fitness(sorted_population[m-1]))\n",
    "    \n",
    "    # elitism\n",
    "    new_population = sorted_population[-elitism:]\n",
    "    while len(new_population) < m:\n",
    "        # step 3: selection\n",
    "        individual_s1 = selection(sorted_population)\n",
    "        individual_s2 = selection(sorted_population) # duplication\n",
    "        \n",
    "        # step 4: crossover\n",
    "        individual_c1, individual_c2 = crossover(individual_s1, individual_s2)\n",
    "        \n",
    "        # step 5: mutation\n",
    "        individual_m1 = mutate(individual_c1)\n",
    "        individual_m2 = mutate(individual_c2)\n",
    "        \n",
    "        # copy to new population\n",
    "        new_population.append(individual_m1)\n",
    "        new_population.append(individual_m2)\n",
    "        \n",
    "    # update population\n",
    "    population = new_population"
   ]
  },
  {
   "cell_type": "code",
   "execution_count": null,
   "id": "f94b80c3",
   "metadata": {},
   "outputs": [],
   "source": []
  },
  {
   "cell_type": "code",
   "execution_count": 21,
   "id": "fb3ace4b",
   "metadata": {},
   "outputs": [
    {
     "name": "stdout",
     "output_type": "stream",
     "text": [
      "BEST: 21\n",
      "BEST: 22\n",
      "BEST: 21\n",
      "BEST: 23\n",
      "BEST: 24\n",
      "BEST: 24\n",
      "BEST: 25\n",
      "BEST: 26\n",
      "BEST: 26\n",
      "BEST: 26\n",
      "BEST: 27\n",
      "BEST: 27\n",
      "BEST: 27\n",
      "BEST: 27\n",
      "BEST: 28\n",
      "BEST: 28\n",
      "BEST: 28\n",
      "BEST: 28\n",
      "BEST: 28\n",
      "BEST: 29\n",
      "BEST: 29\n",
      "BEST: 29\n",
      "BEST: 30\n",
      "BEST: 30\n",
      "BEST: 30\n",
      "BEST: 29\n",
      "BEST: 30\n",
      "BEST: 30\n",
      "BEST: 30\n",
      "BEST: 30\n",
      "BEST: 30\n",
      "BEST: 30\n",
      "BEST: 30\n",
      "BEST: 30\n",
      "BEST: 30\n",
      "BEST: 30\n",
      "BEST: 30\n",
      "BEST: 30\n",
      "BEST: 30\n",
      "BEST: 30\n"
     ]
    }
   ],
   "source": [
    "# Chương trình cài đặt với mục đích dễ hiểu\n",
    "# Nhiều chỗ có thể cải tiến về mặt computation và memory\n",
    "\n",
    "import random\n",
    "\n",
    "n = 30                 # size of individual (chromosome)\n",
    "m = 100                # size of population\n",
    "\n",
    "# để vẽ biểu đồ quá trình tối ưu\n",
    "fitnesses = []\n",
    "\n",
    "# generate a feasible value\n",
    "def generate_random_value():\n",
    "    return random.randint(0, 1)\n",
    "\n",
    "def create_individual():\n",
    "    return [generate_random_value() for _ in range(n)]\n",
    "\n",
    "# evaluate an individual\n",
    "def compute_fitness(individual):\n",
    "    return sum(individual)\n",
    "\n",
    "# crossover\n",
    "def crossover(individual1, individual2, crossover_rate=0.9):\n",
    "    individual1_new = individual1.copy()\n",
    "    individual2_new = individual2.copy()\n",
    "    \n",
    "    for i in range(n):\n",
    "        if random.random() < crossover_rate:\n",
    "            individual1_new[i] = individual2[i]\n",
    "            individual2_new[i] = individual1[i]            \n",
    "    \n",
    "    return individual1_new, individual2_new\n",
    "\n",
    "# mutatation\n",
    "def mutate(individual, mutation_rate=0.05):\n",
    "    individual_m = individual.copy()\n",
    "    \n",
    "    for i in range(n):\n",
    "        if random.random() < mutation_rate:\n",
    "            individual_m[i] = generate_random_value()\n",
    "        \n",
    "    return individual_m\n",
    "\n",
    "# selection; input population is sorted according to fitnesses\n",
    "def selection(sorted_old_population):    \n",
    "    index1 = random.randint(0, m-1)\n",
    "    index2 = random.randint(0, m-1)\n",
    "    \n",
    "    # check until index2 != index1\n",
    "    while index2 == index1:\n",
    "        index2 = random.randint(0, m-1)\n",
    "            \n",
    "    individual_s = sorted_old_population[index1]\n",
    "    if index2 > index1:\n",
    "        individual_s = sorted_old_population[index2]\n",
    "    \n",
    "    return individual_s \n",
    "\n",
    "\n",
    "##### algorithm\n",
    "# step 1: create initial population\n",
    "population = [create_individual() for _ in range(m)]\n",
    "\n",
    "#==== loops\n",
    "n_generations = 40     # number of generations\n",
    "for i in range(n_generations):\n",
    "    # step 2: sort population\n",
    "    sorted_population = sorted(population, key=compute_fitness)\n",
    "    \n",
    "    # for debug\n",
    "    fitnesses.append(compute_fitness(sorted_population[m-1]))\n",
    "    print(\"BEST:\", compute_fitness(sorted_population[m-1]))        \n",
    "    \n",
    "    new_population = []\n",
    "    while len(new_population) < m:\n",
    "        # step 3: selection\n",
    "        individual_s1 = selection(sorted_population)\n",
    "        individual_s2 = selection(sorted_population) # duplication\n",
    "        \n",
    "        # step 4: crossover\n",
    "        individual_c1, individual_c2 = crossover(individual_s1, individual_s2)\n",
    "        \n",
    "        # step 5: mutation\n",
    "        individual_m1 = mutate(individual_c1)\n",
    "        individual_m2 = mutate(individual_c2)\n",
    "        \n",
    "        new_population.append(individual_m1)\n",
    "        new_population.append(individual_m2)\n",
    "        \n",
    "    # update population\n",
    "    population = new_population"
   ]
  },
  {
   "cell_type": "code",
   "execution_count": 22,
   "id": "ad7b91cf",
   "metadata": {},
   "outputs": [
    {
     "name": "stdout",
     "output_type": "stream",
     "text": [
      "[1, 1, 1, 1, 1, 1, 1, 1, 1, 1, 1, 1, 1, 1, 1, 1, 1, 1, 1, 1, 1, 1, 1, 1, 1, 1, 1, 1, 1, 1]\n"
     ]
    }
   ],
   "source": [
    "sorted_population = sorted(population, key=compute_fitness)\n",
    "individual_best = sorted_population[m-1]\n",
    "print(individual_best)"
   ]
  },
  {
   "cell_type": "code",
   "execution_count": 23,
   "id": "605534d8",
   "metadata": {},
   "outputs": [
    {
     "data": {
      "image/png": "[encoded data removed]",
      "text/plain": [
       "<Figure size 432x288 with 1 Axes>"
      ]
     },
     "metadata": {
      "needs_background": "light"
     },
     "output_type": "display_data"
    }
   ],
   "source": [
    "import matplotlib.pyplot as plt\n",
    "\n",
    "plt.plot(fitnesses)\n",
    "plt.xlabel('Generations')\n",
    "plt.ylabel('Fitness')\n",
    "plt.show()"
   ]
  },
  {
   "cell_type": "code",
   "execution_count": null,
   "id": "e881f48b",
   "metadata": {},
   "outputs": [],
   "source": []
  },
  {
   "cell_type": "code",
   "execution_count": null,
   "id": "66cdc4ff",
   "metadata": {},
   "outputs": [],
   "source": []
  },
  {
   "cell_type": "code",
   "execution_count": null,
   "id": "89e9418d",
   "metadata": {},
   "outputs": [],
   "source": []
  },
  {
   "cell_type": "code",
   "execution_count": 10,
   "id": "402a51a3",
   "metadata": {},
   "outputs": [
    {
     "name": "stdout",
     "output_type": "stream",
     "text": [
      "BEST: 20\n",
      "BEST: 23\n",
      "BEST: 23\n",
      "BEST: 24\n",
      "BEST: 25\n",
      "BEST: 26\n",
      "BEST: 26\n",
      "BEST: 26\n",
      "BEST: 26\n",
      "BEST: 28\n",
      "BEST: 28\n",
      "BEST: 28\n",
      "BEST: 29\n",
      "BEST: 29\n",
      "BEST: 29\n",
      "BEST: 29\n",
      "BEST: 30\n",
      "BEST: 30\n",
      "BEST: 30\n",
      "BEST: 30\n",
      "BEST: 30\n",
      "BEST: 30\n",
      "BEST: 30\n",
      "BEST: 30\n",
      "BEST: 30\n",
      "BEST: 30\n",
      "BEST: 30\n",
      "BEST: 30\n",
      "BEST: 30\n",
      "BEST: 30\n",
      "BEST: 30\n",
      "BEST: 30\n",
      "BEST: 30\n",
      "BEST: 30\n",
      "BEST: 30\n",
      "BEST: 30\n",
      "BEST: 30\n",
      "BEST: 30\n",
      "BEST: 30\n",
      "BEST: 30\n"
     ]
    }
   ],
   "source": [
    "# Elitisim\n",
    "\n",
    "import random\n",
    "\n",
    "n = 30                 # size of individual (chromosome)\n",
    "m = 100                # size of population\n",
    "\n",
    "# để vẽ biểu đồ quá trình tối ưu\n",
    "fitnesses = []\n",
    "\n",
    "# generate a feasible value\n",
    "def generate_random_value():\n",
    "    return random.randint(0, 1)\n",
    "\n",
    "def create_individual():\n",
    "    return [generate_random_value() for _ in range(n)]\n",
    "\n",
    "# evaluate an individual\n",
    "def compute_fitness(individual):\n",
    "    return sum(individual)\n",
    "\n",
    "# crossover\n",
    "def crossover(individual1, individual2, crossover_rate=0.9):\n",
    "    individual1_new = individual1.copy()\n",
    "    individual2_new = individual2.copy()\n",
    "    \n",
    "    for i in range(n):\n",
    "        if random.random() < crossover_rate:\n",
    "            individual1_new[i] = individual2[i]\n",
    "            individual2_new[i] = individual1[i]            \n",
    "    \n",
    "    return individual1_new, individual2_new\n",
    "\n",
    "# mutatation\n",
    "def mutate(individual, mutation_rate=0.05):\n",
    "    individual_m = individual.copy()\n",
    "    \n",
    "    for i in range(n):\n",
    "        if random.random() < mutation_rate:\n",
    "            individual_m[i] = generate_random_value()\n",
    "        \n",
    "    return individual_m\n",
    "\n",
    "# selection; input population is sorted according to fitnesses\n",
    "def selection(sorted_old_population):    \n",
    "    index1 = random.randint(0, m-1)\n",
    "    index2 = random.randint(0, m-1)\n",
    "    \n",
    "    # check until index2 != index1\n",
    "    while index2 == index1:\n",
    "        index2 = random.randint(0, m-1)\n",
    "            \n",
    "    individual_s = sorted_old_population[index1]\n",
    "    if index2 > index1:\n",
    "        individual_s = sorted_old_population[index2]\n",
    "    \n",
    "    return individual_s \n",
    "\n",
    "\n",
    "##### algorithm\n",
    "# step 1: create initial population\n",
    "population = [create_individual() for _ in range(m)]\n",
    "\n",
    "#==== loops\n",
    "n_generations = 40     # number of generations\n",
    "elitism = 2\n",
    "for i in range(n_generations):\n",
    "    # step 2: sort population\n",
    "    sorted_population = sorted(population, key=compute_fitness)\n",
    "        \n",
    "    # for debug\n",
    "    fitnesses.append(compute_fitness(sorted_population[m-1]))\n",
    "    print(\"BEST:\", compute_fitness(sorted_population[m-1]))      \n",
    "    \n",
    "    # create new_population\n",
    "    new_population = sorted_population[-elitism:]   \n",
    "    \n",
    "    while len(new_population) < m:\n",
    "        # step 3: selection\n",
    "        individual_s1 = selection(sorted_population)\n",
    "        individual_s2 = selection(sorted_population) # duplication\n",
    "        \n",
    "        # step 4: crossover\n",
    "        individual_c1, individual_c2 = crossover(individual_s1, individual_s2)\n",
    "        \n",
    "        # step 5: mutation\n",
    "        individual_m1 = mutate(individual_c1)\n",
    "        individual_m2 = mutate(individual_c2)\n",
    "        \n",
    "        new_population.append(individual_m1)\n",
    "        new_population.append(individual_m2)\n",
    "        \n",
    "    # update population\n",
    "    population = new_population"
   ]
  },
  {
   "cell_type": "code",
   "execution_count": 11,
   "id": "55147951",
   "metadata": {},
   "outputs": [
    {
     "data": {
      "image/png": "[encoded data removed]",
      "text/plain": [
       "<Figure size 432x288 with 1 Axes>"
      ]
     },
     "metadata": {
      "needs_background": "light"
     },
     "output_type": "display_data"
    }
   ],
   "source": [
    "import matplotlib.pyplot as plt\n",
    "\n",
    "plt.plot(fitnesses)\n",
    "plt.xlabel('Generations')\n",
    "plt.ylabel('Fitness')\n",
    "plt.show()"
   ]
  },
  {
   "cell_type": "code",
   "execution_count": null,
   "id": "b7ce55f4",
   "metadata": {},
   "outputs": [],
   "source": []
  },
  {
   "cell_type": "code",
   "execution_count": null,
   "id": "14bae457",
   "metadata": {},
   "outputs": [],
   "source": []
  }
 ],
 "metadata": {
  "kernelspec": {
   "display_name": "Python 3 (ipykernel)",
   "language": "python",
   "name": "python3"
  },
  "language_info": {
   "codemirror_mode": {
    "name": "ipython",
    "version": 3
   },
   "file_extension": ".py",
   "mimetype": "text/x-python",
   "name": "python",
   "nbconvert_exporter": "python",
   "pygments_lexer": "ipython3",
   "version": "3.9.7"
  }
 },
 "nbformat": 4,
 "nbformat_minor": 5
}
