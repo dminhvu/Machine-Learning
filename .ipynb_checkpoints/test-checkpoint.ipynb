{
 "cells": [
  {
   "cell_type": "code",
   "execution_count": 1,
   "id": "aggregate-lafayette",
   "metadata": {},
   "outputs": [],
   "source": [
    "import random"
   ]
  },
  {
   "cell_type": "code",
   "execution_count": 11,
   "id": "specialized-provision",
   "metadata": {},
   "outputs": [
    {
     "data": {
      "text/plain": [
       "3.141656"
      ]
     },
     "execution_count": 11,
     "metadata": {},
     "output_type": "execute_result"
    }
   ],
   "source": [
    "r = 2\n",
    "N = 1000000\n",
    "count_inside_circle = 0\n",
    "\n",
    "for i in range(N):\n",
    "    x_rand = random.uniform(0,r)\n",
    "    y_rand = random.uniform(0,r)\n",
    "    count_inside_circle += ((x_rand - 1) ** 2 + (y_rand - 1) ** 2 <= (r / 2) ** 2)\n",
    "\n",
    "(count_inside_circle/N)*4"
   ]
  }
 ],
 "metadata": {
  "kernelspec": {
   "display_name": "Python 3",
   "language": "python",
   "name": "python3"
  },
  "language_info": {
   "codemirror_mode": {
    "name": "ipython",
    "version": 3
   },
   "file_extension": ".py",
   "mimetype": "text/x-python",
   "name": "python",
   "nbconvert_exporter": "python",
   "pygments_lexer": "ipython3",
   "version": "3.9.1"
  }
 },
 "nbformat": 4,
 "nbformat_minor": 5
}
