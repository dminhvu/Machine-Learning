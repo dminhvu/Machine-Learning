{
 "cells": [
  {
   "cell_type": "code",
   "execution_count": 1,
   "metadata": {},
   "outputs": [],
   "source": [
    "import numpy as np\n",
    "import matplotlib.pyplot as plt"
   ]
  },
  {
   "cell_type": "code",
   "execution_count": 2,
   "metadata": {},
   "outputs": [
    {
     "data": {
      "text/plain": [
       "(100, 2)"
      ]
     },
     "execution_count": 2,
     "metadata": {},
     "output_type": "execute_result"
    }
   ],
   "source": [
    "data = np.genfromtxt(\"d1.csv\",delimiter=\",\",skip_header=1)\n",
    "data.shape"
   ]
  },
  {
   "cell_type": "code",
   "execution_count": 3,
   "metadata": {},
   "outputs": [
    {
     "data": {
      "text/plain": [
       "[<matplotlib.lines.Line2D at 0x204f6bcc0a0>]"
      ]
     },
     "execution_count": 3,
     "metadata": {},
     "output_type": "execute_result"
    },
    {
     "data": {
      "image/png": "[encoded data removed]",
      "text/plain": [
       "<Figure size 432x288 with 1 Axes>"
      ]
     },
     "metadata": {
      "needs_background": "light"
     },
     "output_type": "display_data"
    }
   ],
   "source": [
    "x = data[:,:-1].reshape(-1,1)\n",
    "y = data[:,-1:].reshape(-1,1)\n",
    "plt.plot(x,y,'.')"
   ]
  },
  {
   "cell_type": "code",
   "execution_count": 4,
   "metadata": {},
   "outputs": [
    {
     "data": {
      "text/plain": [
       "(array([[-10.        , 100.        ],\n",
       "        [ -9.7979798 ,  96.00040812],\n",
       "        [ -9.5959596 ,  92.08244057],\n",
       "        [ -9.39393939,  88.24609734],\n",
       "        [ -9.19191919,  84.49137843]]),\n",
       " (100, 2))"
      ]
     },
     "execution_count": 4,
     "metadata": {},
     "output_type": "execute_result"
    }
   ],
   "source": [
    "X = np.concatenate(([x**i for i in range(1,3)]),axis=1)\n",
    "X[:5], X.shape"
   ]
  },
  {
   "cell_type": "code",
   "execution_count": 5,
   "metadata": {},
   "outputs": [],
   "source": [
    "class LinearRegression:\n",
    "    def calculate_loss(self,y_hat,y):\n",
    "        return 0.5 * ((y_hat - y) ** 2).mean()\n",
    "    \n",
    "    def calculate_gradient(self,X,y_hat,y):\n",
    "        return X.T.dot(y_hat - y)/y.size\n",
    "\n",
    "    def predict(self,w,b,X):\n",
    "        return X.dot(w) + b\n",
    "    \n",
    "    def fit(self,X,y,learning_rate=0.00001,n_epochs=100,batch_size=32,gamma=0.9):\n",
    "        eps = 1e-6\n",
    "\n",
    "        w = np.zeros((X.shape[1], 1))\n",
    "        b = np.zeros((1,1))\n",
    "        n_samples = X.shape[0]\n",
    "\n",
    "        vdWs = [0]\n",
    "        vdbs = [0]\n",
    "        losses = []\n",
    "\n",
    "        for epoch in range(n_epochs):\n",
    "            ids = np.random.permutation(n_samples)\n",
    "            X_shuffled = X[ids]\n",
    "            y_shuffled = y[ids]\n",
    "            for i in range(0,n_samples,batch_size):\n",
    "                Xi = X_shuffled[i:i+batch_size]\n",
    "                yi = y_shuffled[i:i+batch_size]\n",
    "\n",
    "                y_hat = self.predict(w-learning_rate*vdWs[-1],b-learning_rate*vdbs[-1],Xi)\n",
    "                loss = self.calculate_loss(y_hat,yi)\n",
    "                dW = self.calculate_gradient(Xi,y_hat,yi)\n",
    "                db = self.calculate_gradient(np.ones((Xi.shape[0],1)),y_hat,yi)\n",
    "                \n",
    "                vdW = gamma * vdWs[-1] + (1 - gamma)*dW\n",
    "                vdb = gamma * vdbs[-1] + (1 - gamma)*db\n",
    "\n",
    "                w -= learning_rate * vdW\n",
    "                b -= learning_rate * vdb\n",
    "\n",
    "                losses.append(loss)\n",
    "                vdWs.append(vdW)\n",
    "                vdbs.append(vdb)\n",
    "        \n",
    "        self.losses = losses\n",
    "        self.w = w\n",
    "        self.b = b\n",
    "\n"
   ]
  },
  {
   "cell_type": "code",
   "execution_count": 6,
   "metadata": {},
   "outputs": [
    {
     "data": {
      "text/plain": [
       "[<matplotlib.lines.Line2D at 0x204f6cf42e0>]"
      ]
     },
     "execution_count": 6,
     "metadata": {},
     "output_type": "execute_result"
    },
    {
     "data": {
      "image/png": "[encoded data removed]",
      "text/plain": [
       "<Figure size 432x288 with 1 Axes>"
      ]
     },
     "metadata": {
      "needs_background": "light"
     },
     "output_type": "display_data"
    }
   ],
   "source": [
    "model = LinearRegression()\n",
    "model.fit(X,y,learning_rate=0.00005)\n",
    "plt.plot(model.losses)"
   ]
  },
  {
   "cell_type": "code",
   "execution_count": 7,
   "metadata": {},
   "outputs": [
    {
     "data": {
      "text/plain": [
       "<matplotlib.legend.Legend at 0x204f6d5ee80>"
      ]
     },
     "execution_count": 7,
     "metadata": {},
     "output_type": "execute_result"
    },
    {
     "data": {
      "image/png": "[encoded data removed]",
      "text/plain": [
       "<Figure size 432x288 with 1 Axes>"
      ]
     },
     "metadata": {
      "needs_background": "light"
     },
     "output_type": "display_data"
    }
   ],
   "source": [
    "y_pred = model.predict(model.w,model.b,X)\n",
    "plt.plot(y,'.',label='y')\n",
    "plt.plot(y_pred,label='y_pred')\n",
    "plt.legend()"
   ]
  }
 ],
 "metadata": {
  "interpreter": {
   "hash": "a3e015515d4fa22c675781dc3850c1e7652ce10b979365067a3c4bdf5c98d7a9"
  },
  "kernelspec": {
   "display_name": "Python 3.9.7 64-bit (system)",
   "language": "python",
   "name": "python3"
  },
  "language_info": {
   "codemirror_mode": {
    "name": "ipython",
    "version": 3
   },
   "file_extension": ".py",
   "mimetype": "text/x-python",
   "name": "python",
   "nbconvert_exporter": "python",
   "pygments_lexer": "ipython3",
   "version": "3.9.7"
  },
  "orig_nbformat": 4
 },
 "nbformat": 4,
 "nbformat_minor": 2
}
