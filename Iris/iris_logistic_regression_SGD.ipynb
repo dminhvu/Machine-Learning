{
 "cells": [
  {
   "cell_type": "code",
   "execution_count": 1,
   "id": "c827fc83-ddc9-4da8-b57d-6351f84d8494",
   "metadata": {},
   "outputs": [],
   "source": [
    "from sklearn import datasets\n",
    "import numpy as np\n",
    "import matplotlib.pyplot as plt"
   ]
  },
  {
   "cell_type": "code",
   "execution_count": 2,
   "id": "7fd91013-128c-4b7c-beb2-f50b70c7ad39",
   "metadata": {},
   "outputs": [
    {
     "data": {
      "text/plain": [
       "(100, 4)"
      ]
     },
     "execution_count": 2,
     "metadata": {},
     "output_type": "execute_result"
    }
   ],
   "source": [
    "iris = datasets.load_iris()\n",
    "X = iris.data\n",
    "y = iris.target\n",
    "X = np.array([X[i] for i in range(len(X)) if y[i] != 2])\n",
    "y = np.array([y[i] for i in range(len(y)) if y[i] != 2])\n",
    "y = y.reshape(-1, 1)\n",
    "X.shape"
   ]
  },
  {
   "cell_type": "code",
   "execution_count": 3,
   "id": "d1c3dffe-fe9d-4665-9ae2-b441d2f0e62f",
   "metadata": {},
   "outputs": [],
   "source": [
    "class MyLogisticRegression:\n",
    "    import numpy as np\n",
    "    \n",
    "    def sigmoid(self,z):\n",
    "        return 1/(1 + self.np.exp(-z))\n",
    "\n",
    "    def calculate_loss(self,y,y_hat):\n",
    "        return -(y*self.np.log(y_hat) + (1-y)*self.np.log(1-y_hat)).mean()\n",
    "    \n",
    "    def calculate_gradient(self,X,y,y_hat):\n",
    "        return self.np.dot(X.T,y_hat-y) / y.size\n",
    "    \n",
    "    def predict(self,X,theta):\n",
    "        y_hat = self.sigmoid(np.dot(X,theta))\n",
    "        return y_hat\n",
    "    \n",
    "    def fit(self,X,y,epochs=100,lr=0.01,test_size=0.2):\n",
    "        losses = []\n",
    "        train_accs = []\n",
    "        val_accs = []\n",
    "        weights = self.np.random.rand(X.shape[1]+1,1)\n",
    "        \n",
    "        X = self.np.concatenate((self.np.ones((X.shape[0],1)),X),axis=1)\n",
    "        m = X.shape[0]\n",
    "        ids = self.np.random.permutation(m)\n",
    "        \n",
    "        X = X[ids]\n",
    "        y = y[ids]\n",
    "        \n",
    "        num_of_train = int((1-test_size)*X.shape[0])\n",
    "        X_train = X[:num_of_train]\n",
    "        X_val = X[num_of_train:]\n",
    "        y_train = y[:num_of_train]\n",
    "        y_val = y[num_of_train:]\n",
    "        \n",
    "        \n",
    "        for _ in range(epochs):\n",
    "            m = X_train.shape[0]\n",
    "            ids = np.random.permutation(m)\n",
    "            X_train = X_train[ids]\n",
    "            y_train = y_train[ids]\n",
    "            for i in range(m):\n",
    "                \n",
    "                Xi = X_train[i]\n",
    "                yi = y_train[i]\n",
    "                \n",
    "                yi = yi.reshape(-1,1)\n",
    "                Xi = Xi.reshape(1,-1)\n",
    "                \n",
    "                y_hat = self.predict(Xi,weights)\n",
    "                loss = self.calculate_loss(yi,y_hat)\n",
    "                losses.append(loss)\n",
    "\n",
    "                gradient = self.calculate_gradient(Xi,yi,y_hat)\n",
    "                weights -= lr * gradient\n",
    "\n",
    "                y_train_pred = self.predict(Xi,weights).round()\n",
    "                train_acc = (y_train_pred == yi).mean()\n",
    "                train_accs.append(train_acc)\n",
    "\n",
    "                if test_size > 0:\n",
    "                    y_val_pred = self.predict(X_val,weights).round()\n",
    "                    val_acc = (y_val_pred == y_val).mean()\n",
    "                    val_accs.append(val_acc)\n",
    "        \n",
    "        self.weights = weights\n",
    "        self.losses = losses\n",
    "        self.train_accs = train_accs\n",
    "        self.val_accs = val_accs"
   ]
  },
  {
   "cell_type": "code",
   "execution_count": 4,
   "id": "24359532-c108-4be3-b6bd-3658b5d48d3f",
   "metadata": {},
   "outputs": [
    {
     "data": {
      "text/plain": [
       "0.04339694328052353"
      ]
     },
     "execution_count": 4,
     "metadata": {},
     "output_type": "execute_result"
    },
    {
     "data": {
      "image/png": "[encoded data removed]",
      "text/plain": [
       "<Figure size 432x288 with 1 Axes>"
      ]
     },
     "metadata": {
      "needs_background": "light"
     },
     "output_type": "display_data"
    }
   ],
   "source": [
    "model = MyLogisticRegression()\n",
    "model.fit(X,y,lr=0.001,epochs=100)\n",
    "plt.plot(model.losses)\n",
    "model.losses[-1]"
   ]
  },
  {
   "cell_type": "code",
   "execution_count": 5,
   "id": "a4daa231-39d8-4598-ac31-c4ec3921762a",
   "metadata": {},
   "outputs": [
    {
     "data": {
      "text/plain": [
       "[<matplotlib.lines.Line2D at 0x250f48bfc70>]"
      ]
     },
     "execution_count": 5,
     "metadata": {},
     "output_type": "execute_result"
    },
    {
     "data": {
      "image/png": "[encoded data removed]",
      "text/plain": [
       "<Figure size 432x288 with 1 Axes>"
      ]
     },
     "metadata": {
      "needs_background": "light"
     },
     "output_type": "display_data"
    }
   ],
   "source": [
    "plt.plot(model.train_accs)"
   ]
  },
  {
   "cell_type": "code",
   "execution_count": 6,
   "id": "36753cb4-3818-4305-8cd1-c96b8702ac41",
   "metadata": {},
   "outputs": [
    {
     "data": {
      "text/plain": [
       "[<matplotlib.lines.Line2D at 0x250f4933a00>]"
      ]
     },
     "execution_count": 6,
     "metadata": {},
     "output_type": "execute_result"
    },
    {
     "data": {
      "image/png": "[encoded data removed]",
      "text/plain": [
       "<Figure size 432x288 with 1 Axes>"
      ]
     },
     "metadata": {
      "needs_background": "light"
     },
     "output_type": "display_data"
    }
   ],
   "source": [
    "plt.plot(model.val_accs)"
   ]
  }
 ],
 "metadata": {
  "kernelspec": {
   "display_name": "Python 3 (ipykernel)",
   "language": "python",
   "name": "python3"
  },
  "language_info": {
   "codemirror_mode": {
    "name": "ipython",
    "version": 3
   },
   "file_extension": ".py",
   "mimetype": "text/x-python",
   "name": "python",
   "nbconvert_exporter": "python",
   "pygments_lexer": "ipython3",
   "version": "3.9.7"
  }
 },
 "nbformat": 4,
 "nbformat_minor": 5
}
