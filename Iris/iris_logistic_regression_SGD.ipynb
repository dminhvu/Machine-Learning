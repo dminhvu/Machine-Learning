{
 "cells": [
  {
   "cell_type": "markdown",
   "id": "eac73236",
   "metadata": {},
   "source": [
    "# Logistic Regression with Stochastic Gradient Descent for Iris dataset"
   ]
  },
  {
   "cell_type": "markdown",
   "id": "66198535",
   "metadata": {},
   "source": [
    "#### Import libs"
   ]
  },
  {
   "cell_type": "code",
   "execution_count": 8,
   "id": "c827fc83-ddc9-4da8-b57d-6351f84d8494",
   "metadata": {},
   "outputs": [],
   "source": [
    "from sklearn import datasets\n",
    "from sklearn.model_selection import train_test_split\n",
    "import numpy as np\n",
    "import matplotlib.pyplot as plt"
   ]
  },
  {
   "cell_type": "markdown",
   "id": "f380be18",
   "metadata": {},
   "source": [
    "#### Load data"
   ]
  },
  {
   "cell_type": "markdown",
   "id": "f10b38f9",
   "metadata": {},
   "source": [
    "**Notes: In this case, we only use 2 classes in Iris dataset for the purpose of logistic regression.**"
   ]
  },
  {
   "cell_type": "code",
   "execution_count": 28,
   "id": "7fd91013-128c-4b7c-beb2-f50b70c7ad39",
   "metadata": {},
   "outputs": [
    {
     "data": {
      "text/plain": [
       "(100, 4)"
      ]
     },
     "execution_count": 28,
     "metadata": {},
     "output_type": "execute_result"
    }
   ],
   "source": [
    "iris = datasets.load_iris()\n",
    "X = iris.data\n",
    "y = iris.target\n",
    "X = np.array([X[i] for i in range(len(X)) if y[i] != 2])\n",
    "y = np.array([y[i] for i in range(len(y)) if y[i] != 2])\n",
    "y = y.reshape(-1, 1)\n",
    "X.shape"
   ]
  },
  {
   "cell_type": "markdown",
   "id": "a8f91047",
   "metadata": {},
   "source": [
    "#### Prepare data"
   ]
  },
  {
   "cell_type": "markdown",
   "id": "8cab3899",
   "metadata": {},
   "source": [
    "**Split the original data into train data and test data with the ratio 8:2.**"
   ]
  },
  {
   "cell_type": "code",
   "execution_count": 29,
   "id": "6a9a3122",
   "metadata": {},
   "outputs": [
    {
     "data": {
      "text/plain": [
       "(((80, 4), (80, 1)), ((20, 4), (20, 1)))"
      ]
     },
     "execution_count": 29,
     "metadata": {},
     "output_type": "execute_result"
    }
   ],
   "source": [
    "X_train, X_test, y_train, y_test = train_test_split(X,y,test_size=0.2)\n",
    "(X_train.shape, y_train.shape), (X_test.shape, y_test.shape)"
   ]
  },
  {
   "cell_type": "code",
   "execution_count": 58,
   "id": "d1c3dffe-fe9d-4665-9ae2-b441d2f0e62f",
   "metadata": {},
   "outputs": [],
   "source": [
    "class MyLogisticRegression:\n",
    "    import numpy as np\n",
    "    \n",
    "    def sigmoid(self,z):\n",
    "        '''\n",
    "        This function applies the sigmoid function to z.\n",
    "        '''\n",
    "        return 1/(1 + self.np.exp(-z))\n",
    "\n",
    "    def calculate_loss(self,y,y_hat):\n",
    "        '''\n",
    "        This function returns the binary cross-entropy loss function for y and y_hat.\n",
    "        '''\n",
    "        return -(y*self.np.log(y_hat) + (1-y)*self.np.log(1-y_hat)).mean()\n",
    "    \n",
    "    def calculate_gradient(self,X,y,y_hat):\n",
    "        '''\n",
    "        This function calculates the gradient for X, y and y_hat.\n",
    "        '''\n",
    "        return self.np.dot(X.T,y_hat-y) / y.size\n",
    "    \n",
    "    def predict(self,X,theta):\n",
    "        '''\n",
    "        This function returns the predicted values for current X and theta.\n",
    "        '''\n",
    "        y_hat = self.sigmoid(np.dot(X,theta))\n",
    "        return y_hat\n",
    "    \n",
    "    def fit(self,X_train,y_train,val,epochs=100,lr=0.01):\n",
    "        '''\n",
    "        This function fits the data provided.\n",
    "        - losses: save loss after every iteration\n",
    "        - train_accs: save accuracy on train data\n",
    "        - val_accs: save accuracy on validate data\n",
    "        - weights: store weights of model\n",
    "        '''\n",
    "        losses = []\n",
    "        train_accs = []\n",
    "        val_accs = []\n",
    "        weights = self.np.random.rand(X_train.shape[1]+1,1)\n",
    "        \n",
    "        X_train = self.np.concatenate((self.np.ones((X_train.shape[0],1)),X_train),axis=1) # concatenate bias to weights\n",
    "        \n",
    "        X_val, y_val = val\n",
    "        X_val = self.np.concatenate((self.np.ones((X_val.shape[0],1)),X_val),axis=1)\n",
    "\n",
    "        num_of_samples = X_train.shape[0]\n",
    "\n",
    "        for epoch in range(epochs):\n",
    "            id_permutations = self.np.random.permutation(num_of_samples)\n",
    "            X_train = X_train[id_permutations]\n",
    "            y_train = y_train[id_permutations]\n",
    "            for i in range(num_of_samples):\n",
    "                Xi = X_train[i]\n",
    "                yi = y_train[i]\n",
    "                \n",
    "                Xi = Xi.reshape(1,-1)\n",
    "                yi = yi.reshape(-1,1)\n",
    "                \n",
    "                y_hat = self.predict(Xi,weights)\n",
    "                loss = self.calculate_loss(yi,y_hat)\n",
    "                losses.append(loss)\n",
    "\n",
    "                gradient = self.calculate_gradient(Xi,yi,y_hat)\n",
    "                weights -= lr * gradient\n",
    "\n",
    "                y_train_pred = self.predict(Xi,weights).round()\n",
    "                train_acc = (y_train_pred == yi).mean()\n",
    "                train_accs.append(train_acc)\n",
    "                \n",
    "                y_val_pred = self.predict(X_val,weights).round()\n",
    "                val_acc = (y_val_pred == y_val).mean()\n",
    "                val_accs.append(val_acc)\n",
    "\n",
    "        self.weights = weights\n",
    "        self.losses = losses\n",
    "        self.train_accs = train_accs\n",
    "        self.val_accs = val_accs\n",
    "\n",
    "    def score(self,X_test,y_test):\n",
    "        X_test = self.np.concatenate((self.np.ones((X_test.shape[0],1)),X_test),axis=1)\n",
    "        y_hat = self.predict(X_test,self.weights).round()\n",
    "        acc = (y_hat == y_test).mean()\n",
    "        return acc"
   ]
  },
  {
   "cell_type": "code",
   "execution_count": 59,
   "id": "24359532-c108-4be3-b6bd-3658b5d48d3f",
   "metadata": {},
   "outputs": [
    {
     "data": {
      "text/plain": [
       "0.13089178784480904"
      ]
     },
     "execution_count": 59,
     "metadata": {},
     "output_type": "execute_result"
    },
    {
     "data": {
      "image/png": "[encoded data removed]",
      "text/plain": [
       "<Figure size 432x288 with 1 Axes>"
      ]
     },
     "metadata": {
      "needs_background": "light"
     },
     "output_type": "display_data"
    }
   ],
   "source": [
    "model = MyLogisticRegression()\n",
    "model.fit(X_train,y_train,val=(X_test,y_test),lr=0.001,epochs=50)\n",
    "plt.plot(model.losses)\n",
    "model.losses[-1]"
   ]
  },
  {
   "cell_type": "code",
   "execution_count": 60,
   "id": "a4daa231-39d8-4598-ac31-c4ec3921762a",
   "metadata": {},
   "outputs": [
    {
     "data": {
      "text/plain": [
       "[<matplotlib.lines.Line2D at 0x25103136d30>]"
      ]
     },
     "execution_count": 60,
     "metadata": {},
     "output_type": "execute_result"
    },
    {
     "data": {
      "image/png": "[encoded data removed]",
      "text/plain": [
       "<Figure size 432x288 with 1 Axes>"
      ]
     },
     "metadata": {
      "needs_background": "light"
     },
     "output_type": "display_data"
    }
   ],
   "source": [
    "plt.plot(model.train_accs)"
   ]
  },
  {
   "cell_type": "code",
   "execution_count": 61,
   "id": "36753cb4-3818-4305-8cd1-c96b8702ac41",
   "metadata": {},
   "outputs": [
    {
     "data": {
      "text/plain": [
       "[<matplotlib.lines.Line2D at 0x251046e6400>]"
      ]
     },
     "execution_count": 61,
     "metadata": {},
     "output_type": "execute_result"
    },
    {
     "data": {
      "image/png": "[encoded data removed]",
      "text/plain": [
       "<Figure size 432x288 with 1 Axes>"
      ]
     },
     "metadata": {
      "needs_background": "light"
     },
     "output_type": "display_data"
    }
   ],
   "source": [
    "plt.plot(model.val_accs)"
   ]
  },
  {
   "cell_type": "code",
   "execution_count": 62,
   "id": "4cfe0ec1",
   "metadata": {},
   "outputs": [
    {
     "data": {
      "text/plain": [
       "1.0"
      ]
     },
     "execution_count": 62,
     "metadata": {},
     "output_type": "execute_result"
    }
   ],
   "source": [
    "model.score(X_test,y_test)"
   ]
  }
 ],
 "metadata": {
  "kernelspec": {
   "display_name": "Python 3 (ipykernel)",
   "language": "python",
   "name": "python3"
  },
  "language_info": {
   "codemirror_mode": {
    "name": "ipython",
    "version": 3
   },
   "file_extension": ".py",
   "mimetype": "text/x-python",
   "name": "python",
   "nbconvert_exporter": "python",
   "pygments_lexer": "ipython3",
   "version": "3.9.7"
  }
 },
 "nbformat": 4,
 "nbformat_minor": 5
}
