{
 "cells": [
  {
   "cell_type": "markdown",
   "id": "eac73236",
   "metadata": {},
   "source": [
    "# Logistic Regression using Mini-batch Gradient Descent for Iris dataset"
   ]
  },
  {
   "cell_type": "markdown",
   "id": "66198535",
   "metadata": {},
   "source": [
    "#### Import libs"
   ]
  },
  {
   "cell_type": "code",
   "execution_count": 2,
   "id": "c827fc83-ddc9-4da8-b57d-6351f84d8494",
   "metadata": {},
   "outputs": [],
   "source": [
    "from sklearn import datasets\n",
    "from sklearn.model_selection import train_test_split\n",
    "import numpy as np\n",
    "import matplotlib.pyplot as plt"
   ]
  },
  {
   "cell_type": "markdown",
   "id": "f380be18",
   "metadata": {},
   "source": [
    "#### Load data"
   ]
  },
  {
   "cell_type": "markdown",
   "id": "f10b38f9",
   "metadata": {},
   "source": [
    "**Notes: In this case, we only use 2 classes in Iris dataset for the purpose of logistic regression.**"
   ]
  },
  {
   "cell_type": "code",
   "execution_count": 3,
   "id": "7fd91013-128c-4b7c-beb2-f50b70c7ad39",
   "metadata": {},
   "outputs": [
    {
     "data": {
      "text/plain": [
       "((100, 4), (100, 1))"
      ]
     },
     "execution_count": 3,
     "metadata": {},
     "output_type": "execute_result"
    }
   ],
   "source": [
    "iris = datasets.load_iris()\n",
    "X = iris.data\n",
    "y = iris.target\n",
    "X = np.array([X[i] for i in range(len(X)) if y[i] != 2])\n",
    "y = np.array([y[i] for i in range(len(y)) if y[i] != 2])\n",
    "y = y.reshape(-1,1)\n",
    "X.shape, y.shape"
   ]
  },
  {
   "cell_type": "markdown",
   "id": "a8f91047",
   "metadata": {},
   "source": [
    "#### Prepare data"
   ]
  },
  {
   "cell_type": "markdown",
   "id": "8cab3899",
   "metadata": {},
   "source": [
    "**Split the original data into train data and test data with the ratio 8:2.**"
   ]
  },
  {
   "cell_type": "code",
   "execution_count": 4,
   "id": "6a9a3122",
   "metadata": {},
   "outputs": [
    {
     "data": {
      "text/plain": [
       "(((80, 4), (80, 1)), ((20, 4), (20, 1)))"
      ]
     },
     "execution_count": 4,
     "metadata": {},
     "output_type": "execute_result"
    }
   ],
   "source": [
    "X_train, X_test, y_train, y_test = train_test_split(X,y,test_size=0.2)\n",
    "(X_train.shape, y_train.shape), (X_test.shape, y_test.shape)"
   ]
  },
  {
   "cell_type": "code",
   "execution_count": 15,
   "id": "d1c3dffe-fe9d-4665-9ae2-b441d2f0e62f",
   "metadata": {},
   "outputs": [],
   "source": [
    "class LogisticRegression:\n",
    "\n",
    "    def sigmoid(self,z):\n",
    "        '''\n",
    "        This function applies the sigmoid function to z.\n",
    "        '''\n",
    "\n",
    "        return 1/(1 + np.exp(-z))\n",
    "\n",
    "    def calculate_loss(self,y,y_hat):\n",
    "        '''\n",
    "        This function returns the binary cross-entropy loss function for y and y_hat.\n",
    "        '''\n",
    "\n",
    "        return -(y*np.log(y_hat) + (1-y)*np.log(1-y_hat)).mean()\n",
    "    \n",
    "    def calculate_gradient(self,X,y,y_hat):\n",
    "        '''\n",
    "        This function calculates the gradient for X, y and y_hat.\n",
    "        '''\n",
    "\n",
    "        return np.dot(X.T,y_hat-y) / y.size\n",
    "    \n",
    "    def predict(self,X,theta):\n",
    "        '''\n",
    "        This function returns the predicted values for current X and theta.\n",
    "        '''\n",
    "\n",
    "        y_hat = self.sigmoid(np.dot(X,theta))\n",
    "        return y_hat\n",
    "    \n",
    "    def fit(self,X_train,y_train,val,epochs=100,lr=0.01,batch_size=32,verbose=10):\n",
    "        '''\n",
    "        This function fits the data provided.\n",
    "        - losses: save loss after every iteration\n",
    "        - epoch_losses: save loss after one epoch\n",
    "        - train_accs: save accuracy on train data\n",
    "        - val_accs: save accuracy on validate data\n",
    "        - weights: store weights of model\n",
    "        '''\n",
    "\n",
    "        losses = []\n",
    "        epoch_losses = []\n",
    "        train_accs = []\n",
    "        val_accs = []\n",
    "        \n",
    "        weights = np.random.rand(X_train.shape[1]+1,1)\n",
    "        \n",
    "        X_train = np.concatenate((np.ones((X_train.shape[0],1)),X_train),axis=1)\n",
    "\n",
    "        X_val, y_val = val\n",
    "        X_val = np.concatenate((np.ones((X_val.shape[0],1)),X_val),axis=1)\n",
    "\n",
    "        n_samples = X_train.shape[0]\n",
    "        n_steps = int(np.ceil(X_train.shape[0] // batch_size))\n",
    "        \n",
    "        for epoch in range(epochs):\n",
    "            id_permutations = np.random.permutation(n_samples)\n",
    "\n",
    "            X_train_shuffled = X_train[id_permutations]\n",
    "            y_train_shuffled = y_train[id_permutations]\n",
    "            \n",
    "            epoch_loss = 0\n",
    "            for step in range(n_steps):\n",
    "                Xi = X_train_shuffled[step*batch_size:(step+1)*batch_size]\n",
    "                yi = y_train_shuffled[step*batch_size:(step+1)*batch_size]\n",
    "                \n",
    "                y_hat = self.predict(Xi,weights)\n",
    "                loss = self.calculate_loss(yi,y_hat)\n",
    "                losses.append(loss)\n",
    "                epoch_loss += loss\n",
    "                \n",
    "                gradient = self.calculate_gradient(Xi,yi,y_hat)\n",
    "                weights -= lr * gradient\n",
    "\n",
    "                y_train_pred = self.predict(Xi,weights).round()\n",
    "                train_acc = (y_train_pred == yi).mean()\n",
    "                train_accs.append(train_acc)\n",
    "\n",
    "                y_val_pred = self.predict(X_val,weights).round()\n",
    "                val_acc = (y_val_pred == y_val).mean()\n",
    "                val_accs.append(val_acc)\n",
    "            \n",
    "            epoch_loss /= n_steps\n",
    "            epoch_losses.append(epoch_loss)\n",
    "\n",
    "            y_val_pred = self.predict(X_val,weights).round()\n",
    "            val_acc = (y_val_pred == y_val).mean()\n",
    "            \n",
    "            if epoch % verbose == 0 or epoch == epochs-1:\n",
    "                print(f'Epoch {epoch} ----- loss: {round(epoch_loss,4)}, acc: {round(val_acc,4)}')\n",
    "            \n",
    "        self.weights = weights\n",
    "        self.losses = losses\n",
    "        self.epoch_losses = epoch_losses\n",
    "        self.train_accs = train_accs\n",
    "        self.val_accs = val_accs\n",
    "\n",
    "    def score(self,X_test,y_test):\n",
    "        X_test = np.concatenate((np.ones((X_test.shape[0],1)),X_test),axis=1)\n",
    "        y_hat = self.predict(X_test,self.weights).round()\n",
    "        acc = (y_hat == y_test).mean()\n",
    "        return acc"
   ]
  },
  {
   "cell_type": "code",
   "execution_count": 22,
   "id": "24359532-c108-4be3-b6bd-3658b5d48d3f",
   "metadata": {},
   "outputs": [
    {
     "name": "stdout",
     "output_type": "stream",
     "text": [
      "Epoch 0 ----- loss: 2.11, acc: 0.45\n",
      "Epoch 50 ----- loss: 1.2781, acc: 0.45\n",
      "Epoch 100 ----- loss: 0.8699, acc: 0.45\n",
      "Epoch 150 ----- loss: 0.7682, acc: 0.45\n",
      "Epoch 200 ----- loss: 0.7277, acc: 0.45\n",
      "Epoch 250 ----- loss: 0.6796, acc: 0.45\n",
      "Epoch 300 ----- loss: 0.6524, acc: 0.45\n",
      "Epoch 350 ----- loss: 0.5881, acc: 0.5\n",
      "Epoch 400 ----- loss: 0.581, acc: 0.85\n",
      "Epoch 450 ----- loss: 0.541, acc: 0.95\n",
      "Epoch 499 ----- loss: 0.5141, acc: 1.0\n"
     ]
    },
    {
     "data": {
      "text/plain": [
       "[<matplotlib.lines.Line2D at 0x2751d0027c0>]"
      ]
     },
     "execution_count": 22,
     "metadata": {},
     "output_type": "execute_result"
    },
    {
     "data": {
      "image/png": "[encoded data removed]",
      "text/plain": [
       "<Figure size 432x288 with 1 Axes>"
      ]
     },
     "metadata": {
      "needs_background": "light"
     },
     "output_type": "display_data"
    }
   ],
   "source": [
    "model = LogisticRegression()\n",
    "model.fit(X_train,y_train,val=(X_test,y_test),lr=0.001,batch_size=32,epochs=500,verbose=50)\n",
    "\n",
    "plt.xlabel('Iterations')\n",
    "plt.ylabel('Losses')\n",
    "plt.plot(model.losses)"
   ]
  },
  {
   "cell_type": "code",
   "execution_count": 23,
   "id": "8721f101-b3b2-4e3d-a889-109e1fae2407",
   "metadata": {},
   "outputs": [
    {
     "data": {
      "text/plain": [
       "[<matplotlib.lines.Line2D at 0x2751d0635e0>]"
      ]
     },
     "execution_count": 23,
     "metadata": {},
     "output_type": "execute_result"
    },
    {
     "data": {
      "image/png": "[encoded data removed]",
      "text/plain": [
       "<Figure size 432x288 with 1 Axes>"
      ]
     },
     "metadata": {
      "needs_background": "light"
     },
     "output_type": "display_data"
    }
   ],
   "source": [
    "plt.xlabel('Epochs')\n",
    "plt.ylabel('Losses')\n",
    "plt.plot(model.epoch_losses)"
   ]
  },
  {
   "cell_type": "code",
   "execution_count": 24,
   "id": "a4daa231-39d8-4598-ac31-c4ec3921762a",
   "metadata": {},
   "outputs": [
    {
     "data": {
      "text/plain": [
       "[<matplotlib.lines.Line2D at 0x2751d0d1580>]"
      ]
     },
     "execution_count": 24,
     "metadata": {},
     "output_type": "execute_result"
    },
    {
     "data": {
      "image/png": "[encoded data removed]",
      "text/plain": [
       "<Figure size 432x288 with 1 Axes>"
      ]
     },
     "metadata": {
      "needs_background": "light"
     },
     "output_type": "display_data"
    }
   ],
   "source": [
    "plt.xlabel('Iterations')\n",
    "plt.ylabel('Train accuracy')\n",
    "plt.plot(model.train_accs,c='g')"
   ]
  },
  {
   "cell_type": "code",
   "execution_count": 25,
   "id": "36753cb4-3818-4305-8cd1-c96b8702ac41",
   "metadata": {},
   "outputs": [
    {
     "data": {
      "text/plain": [
       "[<matplotlib.lines.Line2D at 0x2751d13a4f0>]"
      ]
     },
     "execution_count": 25,
     "metadata": {},
     "output_type": "execute_result"
    },
    {
     "data": {
      "image/png": "[encoded data removed]",
      "text/plain": [
       "<Figure size 432x288 with 1 Axes>"
      ]
     },
     "metadata": {
      "needs_background": "light"
     },
     "output_type": "display_data"
    }
   ],
   "source": [
    "plt.xlabel('Iterations')\n",
    "plt.ylabel('Validation accuracy')\n",
    "plt.plot(model.val_accs,c='r')"
   ]
  },
  {
   "cell_type": "code",
   "execution_count": 26,
   "id": "d3b0bfe4",
   "metadata": {},
   "outputs": [
    {
     "data": {
      "text/plain": [
       "'Accuracy: 1.0'"
      ]
     },
     "execution_count": 26,
     "metadata": {},
     "output_type": "execute_result"
    }
   ],
   "source": [
    "f'Accuracy: {model.score(X_test,y_test)}'"
   ]
  }
 ],
 "metadata": {
  "kernelspec": {
   "display_name": "Python 3 (ipykernel)",
   "language": "python",
   "name": "python3"
  },
  "language_info": {
   "codemirror_mode": {
    "name": "ipython",
    "version": 3
   },
   "file_extension": ".py",
   "mimetype": "text/x-python",
   "name": "python",
   "nbconvert_exporter": "python",
   "pygments_lexer": "ipython3",
   "version": "3.9.7"
  }
 },
 "nbformat": 4,
 "nbformat_minor": 5
}
