{
 "cells": [
  {
   "cell_type": "code",
   "execution_count": 10,
   "id": "c827fc83-ddc9-4da8-b57d-6351f84d8494",
   "metadata": {},
   "outputs": [],
   "source": [
    "from sklearn import datasets\n",
    "from sklearn.model_selection import train_test_split\n",
    "import numpy as np\n",
    "import matplotlib.pyplot as plt"
   ]
  },
  {
   "cell_type": "code",
   "execution_count": 11,
   "id": "7fd91013-128c-4b7c-beb2-f50b70c7ad39",
   "metadata": {},
   "outputs": [
    {
     "data": {
      "text/plain": [
       "(100, 4)"
      ]
     },
     "execution_count": 11,
     "metadata": {},
     "output_type": "execute_result"
    }
   ],
   "source": [
    "iris = datasets.load_iris()\n",
    "X = iris.data\n",
    "y = iris.target\n",
    "X = np.array([X[i] for i in range(len(X)) if y[i] != 2])\n",
    "y = np.array([y[i] for i in range(len(y)) if y[i] != 2])\n",
    "y = y.reshape(-1, 1)\n",
    "X.shape"
   ]
  },
  {
   "cell_type": "code",
   "execution_count": 12,
   "id": "281bfb9c",
   "metadata": {},
   "outputs": [
    {
     "data": {
      "text/plain": [
       "(((80, 4), (80, 1)), ((20, 4), (20, 1)))"
      ]
     },
     "execution_count": 12,
     "metadata": {},
     "output_type": "execute_result"
    }
   ],
   "source": [
    "X_train, X_test, y_train, y_test = train_test_split(X,y,test_size=0.2)\n",
    "(X_train.shape, y_train.shape), (X_test.shape, y_test.shape)"
   ]
  },
  {
   "cell_type": "code",
   "execution_count": 13,
   "id": "d1c3dffe-fe9d-4665-9ae2-b441d2f0e62f",
   "metadata": {},
   "outputs": [],
   "source": [
    "class LogisticRegression:\n",
    "    \n",
    "    def sigmoid(self,z):\n",
    "        return 1/(1 + np.exp(-z))\n",
    "\n",
    "    def calculate_loss(self,y,y_hat):\n",
    "        return -(y*np.log(y_hat) + (1-y)*np.log(1-y_hat)).mean()\n",
    "    \n",
    "    def calculate_gradient(self,X,y,y_hat):\n",
    "        return np.dot(X.T,y_hat-y) / y.size\n",
    "    \n",
    "    def predict(self,X,theta):\n",
    "        y_hat = self.sigmoid(np.dot(X,theta))\n",
    "        return y_hat\n",
    "    \n",
    "    def fit(self,X_train,y_train,val,epochs=100,lr=0.01,test_size=0.2,verbose=50):\n",
    "\n",
    "        losses = []\n",
    "        train_accs = []\n",
    "        val_accs = []\n",
    "        weights = np.random.rand(X.shape[1] + 1, 1)\n",
    "        \n",
    "        X_train = np.concatenate((np.ones((X_train.shape[0],1)),X_train),axis=1)\n",
    "        n_samples = X_train.shape[0]\n",
    "        id_permutations = np.random.permutation(n_samples)\n",
    "        \n",
    "        X_train = X_train[id_permutations]\n",
    "        y_train = y_train[id_permutations]\n",
    "        \n",
    "        X_val, y_val = val\n",
    "\n",
    "        X_val = np.concatenate((np.ones((X_val.shape[0],1)),X_val),axis=1)\n",
    "\n",
    "        for epoch in range(epochs):\n",
    "            y_hat = self.predict(X_train,weights)\n",
    "            loss = self.calculate_loss(y_train,y_hat)\n",
    "            losses.append(loss)\n",
    "            \n",
    "            gradient = self.calculate_gradient(X_train,y_train,y_hat)\n",
    "            weights -= lr * gradient\n",
    "            \n",
    "            y_train_pred = self.predict(X_train,weights).round()\n",
    "            train_acc = (y_train_pred == y_train).mean()\n",
    "            train_accs.append(train_acc)\n",
    "            \n",
    "            y_val_pred = self.predict(X_val,weights).round()\n",
    "            val_acc = (y_val_pred == y_val).mean()\n",
    "            val_accs.append(val_acc)\n",
    "\n",
    "            if epoch % verbose == 0 or epoch == epochs-1:\n",
    "                print(f'Epoch {epoch} ----- loss: {round(loss,4)}, acc: {round(val_acc,4)}')\n",
    "        \n",
    "        self.weights = weights\n",
    "        self.losses = losses\n",
    "        self.train_accs = train_accs\n",
    "        self.val_accs = val_accs"
   ]
  },
  {
   "cell_type": "code",
   "execution_count": 14,
   "id": "24359532-c108-4be3-b6bd-3658b5d48d3f",
   "metadata": {},
   "outputs": [
    {
     "name": "stdout",
     "output_type": "stream",
     "text": [
      "Epoch 0 ----- loss: 2.3476, acc: 0.5\n",
      "Epoch 50 ----- loss: 1.868, acc: 0.5\n",
      "Epoch 100 ----- loss: 1.4142, acc: 0.5\n",
      "Epoch 150 ----- loss: 1.0169, acc: 0.5\n",
      "Epoch 200 ----- loss: 0.7154, acc: 0.5\n",
      "Epoch 250 ----- loss: 0.5268, acc: 0.5\n",
      "Epoch 300 ----- loss: 0.4274, acc: 0.85\n",
      "Epoch 350 ----- loss: 0.3795, acc: 1.0\n",
      "Epoch 400 ----- loss: 0.3558, acc: 1.0\n",
      "Epoch 450 ----- loss: 0.3423, acc: 1.0\n",
      "Epoch 500 ----- loss: 0.3331, acc: 1.0\n",
      "Epoch 550 ----- loss: 0.3256, acc: 1.0\n",
      "Epoch 600 ----- loss: 0.3189, acc: 1.0\n",
      "Epoch 650 ----- loss: 0.3126, acc: 1.0\n",
      "Epoch 700 ----- loss: 0.3066, acc: 1.0\n",
      "Epoch 750 ----- loss: 0.3008, acc: 1.0\n",
      "Epoch 800 ----- loss: 0.2953, acc: 1.0\n",
      "Epoch 850 ----- loss: 0.2899, acc: 1.0\n",
      "Epoch 900 ----- loss: 0.2848, acc: 1.0\n",
      "Epoch 950 ----- loss: 0.2797, acc: 1.0\n",
      "Epoch 999 ----- loss: 0.275, acc: 1.0\n"
     ]
    },
    {
     "data": {
      "text/plain": [
       "[<matplotlib.lines.Line2D at 0x22da801d160>]"
      ]
     },
     "execution_count": 14,
     "metadata": {},
     "output_type": "execute_result"
    },
    {
     "data": {
      "image/png": "[encoded data removed]",
      "text/plain": [
       "<Figure size 432x288 with 1 Axes>"
      ]
     },
     "metadata": {
      "needs_background": "light"
     },
     "output_type": "display_data"
    }
   ],
   "source": [
    "model = LogisticRegression()\n",
    "model.fit(X_train,y_train,val=(X_test,y_test),lr=0.001,epochs=1000)\n",
    "\n",
    "plt.xlabel('Iterations')\n",
    "plt.ylabel('Losses')\n",
    "plt.plot(model.losses)"
   ]
  },
  {
   "cell_type": "code",
   "execution_count": 15,
   "id": "a4daa231-39d8-4598-ac31-c4ec3921762a",
   "metadata": {},
   "outputs": [
    {
     "data": {
      "text/plain": [
       "[<matplotlib.lines.Line2D at 0x22da8070940>]"
      ]
     },
     "execution_count": 15,
     "metadata": {},
     "output_type": "execute_result"
    },
    {
     "data": {
      "image/png": "[encoded data removed]",
      "text/plain": [
       "<Figure size 432x288 with 1 Axes>"
      ]
     },
     "metadata": {
      "needs_background": "light"
     },
     "output_type": "display_data"
    }
   ],
   "source": [
    "plt.xlabel('Iterations')\n",
    "plt.ylabel('Training accuracy')\n",
    "plt.plot(model.train_accs)"
   ]
  },
  {
   "cell_type": "code",
   "execution_count": 16,
   "id": "36753cb4-3818-4305-8cd1-c96b8702ac41",
   "metadata": {},
   "outputs": [
    {
     "data": {
      "text/plain": [
       "[<matplotlib.lines.Line2D at 0x22da80ccd00>]"
      ]
     },
     "execution_count": 16,
     "metadata": {},
     "output_type": "execute_result"
    },
    {
     "data": {
      "image/png": "[encoded data removed]",
      "text/plain": [
       "<Figure size 432x288 with 1 Axes>"
      ]
     },
     "metadata": {
      "needs_background": "light"
     },
     "output_type": "display_data"
    }
   ],
   "source": [
    "plt.xlabel('Iterations')\n",
    "plt.ylabel('Validation accuracy')\n",
    "plt.plot(model.val_accs)"
   ]
  }
 ],
 "metadata": {
  "kernelspec": {
   "display_name": "Python 3 (ipykernel)",
   "language": "python",
   "name": "python3"
  },
  "language_info": {
   "codemirror_mode": {
    "name": "ipython",
    "version": 3
   },
   "file_extension": ".py",
   "mimetype": "text/x-python",
   "name": "python",
   "nbconvert_exporter": "python",
   "pygments_lexer": "ipython3",
   "version": "3.9.7"
  }
 },
 "nbformat": 4,
 "nbformat_minor": 5
}
