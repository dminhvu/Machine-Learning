{
 "cells": [
  {
   "cell_type": "code",
   "execution_count": 1,
   "metadata": {},
   "outputs": [],
   "source": [
    "import numpy as np"
   ]
  },
  {
   "cell_type": "code",
   "execution_count": 48,
   "metadata": {},
   "outputs": [],
   "source": [
    "a = np.array([\n",
    "        [3, 2],\n",
    "        [6, 1],\n",
    "        [7, 8],\n",
    "            ])\n",
    "# a = a.T"
   ]
  },
  {
   "cell_type": "code",
   "execution_count": 49,
   "metadata": {},
   "outputs": [],
   "source": [
    "def SVD(a):\n",
    "    u, s, vt = np.linalg.svd(a)\n",
    "    smat = np.diag(s)\n",
    "    if a.shape[0] >= a.shape[1]:\n",
    "        smat = np.concatenate((smat, np.zeros((u.shape[0] - vt.shape[0], vt.shape[0]))), axis=0)\n",
    "    else:\n",
    "        smat = np.concatenate((smat, np.zeros((u.shape[0], vt.shape[0] - u.shape[0]))), axis=1)\n",
    "    \n",
    "    return u, smat, vt"
   ]
  },
  {
   "cell_type": "code",
   "execution_count": 50,
   "metadata": {},
   "outputs": [
    {
     "data": {
      "text/plain": [
       "(array([[-0.29210226, -0.10901181, -0.95015404],\n",
       "        [-0.42776966, -0.87367467,  0.23174489],\n",
       "        [-0.85538844,  0.47414028,  0.2085704 ]]),\n",
       " array([[12.2735224 ,  0.        ],\n",
       "        [ 0.        ,  3.51577132],\n",
       "        [ 0.        ,  0.        ]]),\n",
       " array([[-0.76837305, -0.64000223],\n",
       "        [-0.64000223,  0.76837305]]))"
      ]
     },
     "execution_count": 50,
     "metadata": {},
     "output_type": "execute_result"
    }
   ],
   "source": [
    "U, S, VT = SVD(a)\n",
    "U, S, VT"
   ]
  },
  {
   "cell_type": "code",
   "execution_count": 51,
   "metadata": {},
   "outputs": [
    {
     "data": {
      "text/plain": [
       "array([[3., 2.],\n",
       "       [6., 1.],\n",
       "       [7., 8.]])"
      ]
     },
     "execution_count": 51,
     "metadata": {},
     "output_type": "execute_result"
    }
   ],
   "source": [
    "U.dot(S.dot(VT))"
   ]
  },
  {
   "cell_type": "code",
   "execution_count": 52,
   "metadata": {},
   "outputs": [
    {
     "data": {
      "text/plain": [
       "True"
      ]
     },
     "execution_count": 52,
     "metadata": {},
     "output_type": "execute_result"
    }
   ],
   "source": [
    "np.allclose(a, U.dot(S.dot(VT)))"
   ]
  }
 ],
 "metadata": {
  "interpreter": {
   "hash": "a3e015515d4fa22c675781dc3850c1e7652ce10b979365067a3c4bdf5c98d7a9"
  },
  "kernelspec": {
   "display_name": "Python 3.9.7 64-bit",
   "language": "python",
   "name": "python3"
  },
  "language_info": {
   "codemirror_mode": {
    "name": "ipython",
    "version": 3
   },
   "file_extension": ".py",
   "mimetype": "text/x-python",
   "name": "python",
   "nbconvert_exporter": "python",
   "pygments_lexer": "ipython3",
   "version": "3.9.7"
  },
  "orig_nbformat": 4
 },
 "nbformat": 4,
 "nbformat_minor": 2
}
