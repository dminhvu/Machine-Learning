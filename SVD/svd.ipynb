{
 "cells": [
  {
   "cell_type": "code",
   "execution_count": 8,
   "metadata": {},
   "outputs": [],
   "source": [
    "import numpy as np"
   ]
  },
  {
   "cell_type": "code",
   "execution_count": 9,
   "metadata": {},
   "outputs": [],
   "source": [
    "a = np.array([\n",
    "        [3, 2, 3],\n",
    "        [6, 1, 4],\n",
    "        [7, 8, 5],\n",
    "            ])\n",
    "# a = a.T"
   ]
  },
  {
   "cell_type": "code",
   "execution_count": 10,
   "metadata": {},
   "outputs": [],
   "source": [
    "def SVD(a):\n",
    "    u, s, vt = np.linalg.svd(a)\n",
    "    smat = np.diag(s)\n",
    "    if a.shape[0] >= a.shape[1]:\n",
    "        smat = np.concatenate((smat, np.zeros((u.shape[0] - vt.shape[0], vt.shape[0]))), axis=0)\n",
    "    else:\n",
    "        smat = np.concatenate((smat, np.zeros((u.shape[0], vt.shape[0] - u.shape[0]))), axis=1)\n",
    "    \n",
    "    return u, smat, vt"
   ]
  },
  {
   "cell_type": "code",
   "execution_count": 11,
   "metadata": {},
   "outputs": [],
   "source": [
    "U, S, VT = SVD(a)"
   ]
  },
  {
   "cell_type": "code",
   "execution_count": 12,
   "metadata": {},
   "outputs": [
    {
     "data": {
      "text/plain": [
       "(array([[-0.32677226, -0.15913627, -0.93160911],\n",
       "        [-0.46716698, -0.82968087,  0.30558904],\n",
       "        [-0.82156856,  0.53507504,  0.19677349]]),\n",
       " array([[14.08852541,  0.        ,  0.        ],\n",
       "        [ 0.        ,  3.74079755,  0.        ],\n",
       "        [ 0.        ,  0.        ,  0.72103086]]),\n",
       " array([[-0.67674212, -0.54606566, -0.49379387],\n",
       "        [-0.45711343,  0.83742754, -0.29960379],\n",
       "        [ 0.57711993,  0.02296531, -0.81633644]]))"
      ]
     },
     "execution_count": 12,
     "metadata": {},
     "output_type": "execute_result"
    }
   ],
   "source": [
    "U, S, VT"
   ]
  },
  {
   "cell_type": "code",
   "execution_count": 13,
   "metadata": {},
   "outputs": [
    {
     "data": {
      "text/plain": [
       "array([[3., 2., 3.],\n",
       "       [6., 1., 4.],\n",
       "       [7., 8., 5.]])"
      ]
     },
     "execution_count": 13,
     "metadata": {},
     "output_type": "execute_result"
    }
   ],
   "source": [
    "U.dot(S.dot(VT))"
   ]
  },
  {
   "cell_type": "code",
   "execution_count": 14,
   "metadata": {},
   "outputs": [
    {
     "data": {
      "text/plain": [
       "True"
      ]
     },
     "execution_count": 14,
     "metadata": {},
     "output_type": "execute_result"
    }
   ],
   "source": [
    "np.allclose(a, U.dot(S.dot(VT)))"
   ]
  }
 ],
 "metadata": {
  "interpreter": {
   "hash": "a3e015515d4fa22c675781dc3850c1e7652ce10b979365067a3c4bdf5c98d7a9"
  },
  "kernelspec": {
   "display_name": "Python 3.9.7 64-bit",
   "language": "python",
   "name": "python3"
  },
  "language_info": {
   "codemirror_mode": {
    "name": "ipython",
    "version": 3
   },
   "file_extension": ".py",
   "mimetype": "text/x-python",
   "name": "python",
   "nbconvert_exporter": "python",
   "pygments_lexer": "ipython3",
   "version": "3.9.7"
  },
  "orig_nbformat": 4
 },
 "nbformat": 4,
 "nbformat_minor": 2
}
